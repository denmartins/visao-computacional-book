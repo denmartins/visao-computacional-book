{
 "cells": [
  {
   "cell_type": "markdown",
   "id": "22c4ffd2",
   "metadata": {
    "editable": true,
    "slideshow": {
     "slide_type": "slide"
    },
    "tags": []
   },
   "source": [
    "# Redes Neurais Convolucionais (CNNs)\n",
    "---"
   ]
  },
  {
   "cell_type": "markdown",
   "id": "0c1bf642",
   "metadata": {
    "editable": true,
    "slideshow": {
     "slide_type": "slide"
    },
    "tags": []
   },
   "source": [
    "## Recap: MLP para o MNIST dataset\n",
    "---\n",
    "\n",
    "<div style='align: left; text-align:center;'>\n",
    "    <img src='https://editor.analyticsvidhya.com/uploads/95577cnn2.gif' alt='MLP para MNIST dataset.' style=\"width:600px;\"/>\n",
    "    <span style='display:block;'>MLP para MNIST dataset. Fonte: <a href=\"https://editor.analyticsvidhya.com/uploads/95577cnn2.gif\" target=\"_blank\"> Analytics Vidhya</a>.</span>\n",
    "    <br/>\n",
    "</div>\n"
   ]
  },
  {
   "cell_type": "markdown",
   "id": "35148608",
   "metadata": {
    "editable": true,
    "slideshow": {
     "slide_type": "slide"
    },
    "tags": []
   },
   "source": [
    "## Neurônio da Camada Escondida\n",
    "---\n",
    "\n",
    "<center>\n",
    "<table style=\"width:100%;border:none;\">\n",
    "<tr>\n",
    "<td style=\"vertical-align:middle;text-align:center;border:none;\">\n",
    "    <img src='https://ml4a.github.io/images/figures/mnist_1layer.png' style=\"width:100%;\"/>\n",
    "    <span style='display:block;'>Rede de 1 camada para o MNIST dataset. Fonte: <a href=\"https://ml4a.github.io/ml4a/looking_inside_neural_nets/\" target=\"_blank\">ML4a</a>.</span>\n",
    "</td>\n",
    "<td style=\"vertical-align:middle;text-align:center;border:none;\">\n",
    "    <img src='https://ml4a.github.io/images/figures/weights_analogy_1.png' style=\"width:100%;\"/>\n",
    "    <span style='display:block;'>Net input de um neurônio na camada escondida. Fonte: <a href=\"https://ml4a.github.io/ml4a/looking_inside_neural_nets/\" target=\"_blank\">ML4a</a>.</span>\n",
    "</td>\n",
    "</tr>\n",
    "</table>\n",
    "</center>\n"
   ]
  },
  {
   "cell_type": "markdown",
   "id": "d09d8d70",
   "metadata": {
    "editable": true,
    "slideshow": {
     "slide_type": "slide"
    },
    "tags": []
   },
   "source": [
    "## Neurônio da Camada Escondida\n",
    "---\n",
    "\n",
    "<div style='align: left; text-align:center;'>\n",
    "    <img src='https://ml4a.github.io/images/figures/rolled_weights_mnist_0.png' alt='Representação em Imagem de um Neurônio da Camada Escondida de uma MLP para o MNIST dataset.' style=\"width:800px;\"/>\n",
    "    <span style='display:block;'>Representação em Imagem de um Neurônio da Camada Escondida de uma MLP para o MNIST dataset. Fonte: <a href=\"https://ml4a.github.io/ml4a/looking_inside_neural_nets/\" target=\"_blank\"> ML4a</a>.</span>\n",
    "    <br/>\n",
    "</div>"
   ]
  },
  {
   "cell_type": "markdown",
   "id": "39aa5805",
   "metadata": {
    "editable": true,
    "slideshow": {
     "slide_type": ""
    },
    "tags": []
   },
   "source": [
    "## Neurônio da Camada Escondida\n",
    "---\n",
    "\n",
    "<div style='align: left; text-align:center;'>\n",
    "    <img src='https://ml4a.github.io/images/figures/rolled_weights_mnist.png' alt='Visualização dos Neurônios da Camada de Saída de uma MLP para o MNIST dataset.' style=\"width:800px;\"/>\n",
    "    <span style='display:block;'>Visualização dos Neurônios da Camada de Saída de uma MLP para o MNIST dataset.. Fonte: <a href=\"https://ml4a.github.io/ml4a/looking_inside_neural_nets/\" target=\"_blank\"> ML4a</a>.</span>\n",
    "    <br/>\n",
    "</div>"
   ]
  },
  {
   "cell_type": "markdown",
   "id": "9f2886ca",
   "metadata": {
    "editable": true,
    "slideshow": {
     "slide_type": "slide"
    },
    "tags": []
   },
   "source": [
    "## Limitações da Rede MLP\n",
    "---\n",
    "\n",
    "- **Dimensionalidade Alta:** Uma imagem 224x244x3 tem 150.528 pixels/entradas. Cada neurônio na primeira camada oculta de um MLP precisaria de 150.528 pesos, levando a bilhões de parâmetros treináveis em uma rede profunda.\n",
    "- O grande número de parâmetros torna o modelo propenso a **overfitting** (superajuste).\n",
    "\n",
    "<div style='align: left; text-align:center;'>\n",
    "    <img src='https://learnopencv.com/wp-content/uploads/2023/01/tensorflow-keras-mlp-parameters-1024x414.png' alt='MLPs têm alta dimensionalidade.' style=\"width:800px;\"/>\n",
    "    <span style='display:block;'>Alta dimensionalidade das MLPs para imagens. Frequentemente levando a overfitting. Fonte: <a href=\"https://learnopencv.com/understanding-convolutional-neural-networks-cnn/\" target=\"_blank\"> LearnOpenCV</a>.</span>\n",
    "    <br/>\n",
    "</div>\n"
   ]
  },
  {
   "cell_type": "markdown",
   "id": "f66dae45",
   "metadata": {
    "editable": true,
    "slideshow": {
     "slide_type": "slide"
    },
    "tags": []
   },
   "source": [
    "\n",
    "<div style='align: left; text-align:center;'>\n",
    "    <img src='https://media.datacamp.com/legacy/v1700044100/image3_93b1b7c0d9.png' alt='Underfitting versus Overfitting.' style=\"width:800px;\"/>\n",
    "    <span style='display:block;'>Underfitting versus Overfitting. Fonte: <a href=\"https://www.datacamp.com/pt/tutorial/introduction-to-convolutional-neural-networks-cnns\" target=\"_blank\"> DataCamp</a>.</span>\n",
    "    <br/>\n",
    "</div>\n",
    "\n"
   ]
  },
  {
   "cell_type": "markdown",
   "id": "34ab184d",
   "metadata": {
    "editable": true,
    "slideshow": {
     "slide_type": "slide"
    },
    "tags": []
   },
   "source": [
    "## Limitações da Rede MLP\n",
    "---\n",
    "- **Perda de Estrutura Espacial:** MLPs exigem que a imagem 2D/3D seja \"achatada\" (flattened) em um vetor 1D.\n",
    "- Isso destrói a informação de localidade: pixels próximos (semânticos) são tratados da mesma forma que pixels distantes.\n",
    "\n",
    "<div style='align: left; text-align:center;'>\n",
    "    <img src='https://learnopencv.com/wp-content/uploads/2023/01/tensorflow-keras-mlp-image-translation.png' alt='MLPs não são invariantes à translação' style=\"width:800px;\"/>\n",
    "    <span style='display:block;'>MLPs não são invariantes à translação. Fonte: <a href=\"https://learnopencv.com/understanding-convolutional-neural-networks-cnn/\" target=\"_blank\"> LearnOpenCV</a>.</span>\n",
    "    <br/>\n",
    "</div>\n"
   ]
  },
  {
   "cell_type": "markdown",
   "id": "1a5f894a",
   "metadata": {
    "editable": true,
    "slideshow": {
     "slide_type": "slide"
    },
    "tags": []
   },
   "source": [
    "## Objetivos de Aprendizagem\n",
    "---\n",
    "\n",
    "- Explicar por que CNNs são adequadas para dados de imagem.  \n",
    "- Descrever os blocos fundamentais (convolução, padding, stride, pooling, ativação).  \n",
    "- Esboçar uma arquitetura simples de CNN e justificar cada componente.  \n",
    "- Implementar um CNN mínimo em PyTorch que classifica dígitos MNIST.  "
   ]
  },
  {
   "cell_type": "markdown",
   "id": "e63d4322",
   "metadata": {
    "editable": true,
    "slideshow": {
     "slide_type": "slide"
    },
    "tags": []
   },
   "source": [
    "## Redes Neurais Convolucionais\n",
    "---\n",
    "\n",
    "- Convolutional Neural Nets (**CNNs** ou ConvNets) são arquiteturas de redes neurais otimizadas para dados com estrutura de grade, como imagens.\n",
    "- CNN aplica uma série de transformações na imagem original (veja esquema abaixo) com três tipos de camadas (**convolution, pooling e fully connected**).\n",
    "- A sequência de camadas antes da camada fully connected é chamada de extrator de características.\n",
    "<div style='align: left; text-align:center;'>\n",
    "    <img src='https://wiki.pathmind.com/images/wiki/convnet.png' alt='Exemplo de CNN' style=\"width:800px;\"/>\n",
    "    <span style='display:block;'>Estrutura geral de uma CNN. Fonte: <a href=\"https://wiki.pathmind.com/convolutional-network\" target=\"_blank\"> pathmind</a>.</span>\n",
    "    <br/>\n",
    "</div>"
   ]
  },
  {
   "cell_type": "markdown",
   "id": "3782cf8e",
   "metadata": {
    "editable": true,
    "slideshow": {
     "slide_type": "slide"
    },
    "tags": []
   },
   "source": [
    "## Demo de CNN para o MNIST\n",
    "---\n",
    "\n",
    "<div style='align: left; text-align:center;'>\n",
    "    <img src='https://www.popsci.com/wp-content/uploads/2019/03/18/YJNDG7MQQDINTOGCDUJGTHZ4N4.png' alt='Demonstração de CNN para MNIST' style=\"width:400px;\"/>\n",
    "    <span style='display:block;'>Estrutura geral de uma CNN. Fonte: <a href=\"https://adamharley.com/nn_vis/cnn/3d.html\" target=\"_blank\"> Adam W. Harley</a>.</span>\n",
    "    <br/>\n",
    "</div>\n",
    "\n",
    "<center>\n",
    "\n",
    "\n",
    "</center>"
   ]
  },
  {
   "cell_type": "markdown",
   "id": "f71e2bef",
   "metadata": {
    "editable": true,
    "slideshow": {
     "slide_type": "slide"
    },
    "tags": []
   },
   "source": [
    "## CNN em Pytorch: Demo\n",
    "---\n",
    "\n",
    "Código completo no site do professor: [https://denmartins.github.io](https://denmartins.github.io/visao-computacional-book/vcnotebooks/VC-Redes-Neurais-Convolucionais.html#cnn-em-pytorch-demo)."
   ]
  },
  {
   "cell_type": "code",
   "execution_count": 1,
   "id": "07ec48a1",
   "metadata": {
    "editable": true,
    "slideshow": {
     "slide_type": "slide"
    },
    "tags": []
   },
   "outputs": [],
   "source": [
    "import torch.nn as nn\n",
    "import torch.nn.functional as F\n",
    "\n",
    "class SimpleCNN(nn.Module):\n",
    "    def __init__(self):\n",
    "        super(SimpleCNN, self).__init__()\n",
    "        self.sequential = nn.Sequential(\n",
    "            # Primeira camada convolucional\n",
    "            nn.Conv2d(in_channels=1, out_channels=32, \n",
    "                      kernel_size=2, padding=1),\n",
    "            nn.ReLU(),\n",
    "            # Segunda camada convolucional\n",
    "            nn.Conv2d(in_channels=32, out_channels=64, \n",
    "                      kernel_size=2, padding=1),\n",
    "            # Pooling Max: 2x2\n",
    "            nn.MaxPool2d(kernel_size=2, stride=2),\n",
    "            # Flatten de matriz para vetor.\n",
    "            nn.Flatten(),\n",
    "            # Definindo as camadas FC\n",
    "            # Camada Totalmente Conectada 1\n",
    "            nn.Linear(14400, 128),\n",
    "            nn.ReLU(),\n",
    "            # Camada de Saída (10 classes para MNIST)\n",
    "            nn.Linear(128, 10)\n",
    "        )\n",
    "\n",
    "    def forward(self, x):\n",
    "        return self.sequential(x)\n"
   ]
  },
  {
   "cell_type": "code",
   "execution_count": 2,
   "id": "6f6ec630",
   "metadata": {
    "editable": true,
    "slideshow": {
     "slide_type": "skip"
    },
    "tags": []
   },
   "outputs": [],
   "source": [
    "import matplotlib.pyplot as plt\n",
    "import seaborn as sns\n",
    "import torch\n",
    "from torch import nn\n",
    "import torch.optim as optim\n",
    "import torch.utils.data as data\n",
    "import torchvision.transforms as transforms\n",
    "from torchvision import datasets\n",
    "from tqdm.notebook import trange"
   ]
  },
  {
   "cell_type": "code",
   "execution_count": 3,
   "id": "bb022257",
   "metadata": {
    "editable": true,
    "slideshow": {
     "slide_type": "skip"
    },
    "tags": []
   },
   "outputs": [],
   "source": [
    "# Número de processos para o dataloader\n",
    "NUM_WORKERS = 0\n",
    "# Quantas amostras (imagens) por batch\n",
    "BATCH_SIZE = 128\n",
    "# Converte dados em tensores\n",
    "transform = transforms.ToTensor()\n",
    "\n",
    "# Carrega dados de treino e teste\n",
    "train_data = datasets.MNIST(root='data', train=True,\n",
    "    download=True, transform=transform)\n",
    "test_data = datasets.MNIST(root='data', train=False,\n",
    "    download=True, transform=transform)\n",
    "\n",
    "# Cria dataset de validação\n",
    "VALIDATION_SIZE = 0.1\n",
    "n_train_examples = int(len(train_data) * VALIDATION_SIZE)\n",
    "n_valid_examples = len(train_data) - n_train_examples\n",
    "\n",
    "train_data, valid_data = data.random_split(\n",
    "    train_data, [n_train_examples, n_valid_examples])\n",
    "\n",
    "# Data Loaders\n",
    "train_loader = torch.utils.data.DataLoader(train_data, shuffle=True, \n",
    "   batch_size=BATCH_SIZE, num_workers=NUM_WORKERS)\n",
    "valid_loader = torch.utils.data.DataLoader(valid_data,\n",
    "   batch_size=BATCH_SIZE, num_workers=NUM_WORKERS)\n",
    "test_loader = torch.utils.data.DataLoader(test_data, \n",
    "  batch_size=BATCH_SIZE, num_workers=NUM_WORKERS)"
   ]
  },
  {
   "cell_type": "code",
   "execution_count": 4,
   "id": "99c35828",
   "metadata": {
    "editable": true,
    "slideshow": {
     "slide_type": "skip"
    },
    "tags": []
   },
   "outputs": [],
   "source": [
    "def set_device(on_gpu=True):\n",
    "    has_mps = torch.backends.mps.is_available()\n",
    "    has_cuda = torch.cuda.is_available()\n",
    "    return \"mps\" if (has_mps and on_gpu) \\\n",
    "            else \"cuda\" if (has_cuda and on_gpu) \\\n",
    "            else \"cpu\""
   ]
  },
  {
   "cell_type": "code",
   "execution_count": 5,
   "id": "6dc13f30",
   "metadata": {
    "editable": true,
    "slideshow": {
     "slide_type": "skip"
    },
    "tags": []
   },
   "outputs": [
    {
     "name": "stdout",
     "output_type": "stream",
     "text": [
      "Num. Parâmetros no modelo: 1853034\n"
     ]
    }
   ],
   "source": [
    "torch.manual_seed(42)\n",
    "\n",
    "EPOCHS = 10\n",
    "device = set_device(on_gpu=True)\n",
    "model = SimpleCNN()\n",
    "model = model.to(device)\n",
    "loss_function = nn.CrossEntropyLoss()\n",
    "optimizer = torch.optim.Adam(model.parameters(), lr=0.001)\n",
    "\n",
    "num_parameters = sum(p.numel() for p in model.parameters() if p.requires_grad)\n",
    "print(f\"Num. Parâmetros no modelo:\", num_parameters)"
   ]
  },
  {
   "cell_type": "code",
   "execution_count": 6,
   "id": "6ff37b14",
   "metadata": {
    "editable": true,
    "slideshow": {
     "slide_type": "skip"
    },
    "tags": []
   },
   "outputs": [],
   "source": [
    "def correct(output, target):\n",
    "    predicted_digits = output.argmax(1)                            # Posição com maior valor da saída\n",
    "    correct_ones = (predicted_digits == target).type(torch.float)  # 1.0 se acertou, 0.0 caso contrário\n",
    "    return correct_ones.sum().item()                               # Conta o número de acertos\n",
    "\n",
    "def train_model_mini_batch_with_validation(epochs, train_loader, valid_loader, model, loss_function, optimizer):\n",
    "    tr_loss = [0.]*epochs\n",
    "    val_loss = [0.]*epochs\n",
    "\n",
    "    with trange(epochs, desc=\"Training\", leave=False) as tepoch:\n",
    "        for epoch in range(epochs):\n",
    "            model.train()\n",
    "            train_total_loss = 0.0\n",
    "            total_correct = 0.0\n",
    "           \n",
    "\n",
    "            for data, target in train_loader:\n",
    "                # Copia dados para o device (ex.: GPU)\n",
    "                data = data.to(device)\n",
    "                target = target.to(device)\n",
    "                \n",
    "                # Forward pass\n",
    "                output = model(data)\n",
    "                \n",
    "                # Calcula loss\n",
    "                loss = loss_function(output, target)\n",
    "                train_total_loss += loss.item()\n",
    "\n",
    "                # Conta acertos\n",
    "                total_correct += correct(output, target)\n",
    "                \n",
    "                # Backward pass: Backpropagation\n",
    "                optimizer.zero_grad()\n",
    "                loss.backward()\n",
    "                optimizer.step()\n",
    "\n",
    "            avg_tr_loss = train_total_loss / len(train_loader)\n",
    "            tr_loss[epoch] = avg_tr_loss\n",
    "            training_accuracy = total_correct / len(train_loader.dataset) * 100\n",
    "            \n",
    "            # Validation phase\n",
    "            model.eval()  # Set the model to evaluation mode\n",
    "            val_total_loss = 0.0\n",
    "            val_total_correct = 0\n",
    "            \n",
    "\n",
    "            with torch.no_grad():\n",
    "                for data, target in valid_loader:\n",
    "                    data = data.to(device)\n",
    "                    target = target.to(device)\n",
    "                    \n",
    "                    # Forward pass\n",
    "                    output = model(data)\n",
    "                    \n",
    "                    # Calcula loss\n",
    "                    loss = loss_function(output, target)\n",
    "                    val_total_loss += loss.item()\n",
    "\n",
    "                    # Conta acertos\n",
    "                    val_total_correct += correct(output, target)\n",
    "\n",
    "            avg_val_loss = val_total_loss / len(valid_loader)\n",
    "            val_loss[epoch] = avg_val_loss\n",
    "            validation_accuracy = val_total_correct / len(valid_loader.dataset) * 100\n",
    "            tepoch.set_postfix(train_loss=avg_tr_loss, train_acc=training_accuracy, val_loss=avg_val_loss, val_acc=validation_accuracy)\n",
    "            tepoch.update(1)\n",
    "\n",
    "    epoch_ticks = [i+1 for i in range(epochs)]\n",
    "    plt.figure(figsize=(4,3))\n",
    "    sns.lineplot(x=epoch_ticks, y=tr_loss, marker=\"o\", label=\"Train. Loss\" )\n",
    "    sns.lineplot(x=epoch_ticks, y=val_loss, marker=\"^\", linestyle=\"--\", label=\"Valid. Loss\")\n",
    "    plt.xlabel('Epoch')\n",
    "    plt.ylabel('Loss')\n",
    "    plt.title(\"Comportamento da Loss\")\n",
    "    plt.legend()\n",
    "    sns.despine()\n",
    "    plt.show()"
   ]
  },
  {
   "cell_type": "code",
   "execution_count": 7,
   "id": "a7c3b776",
   "metadata": {
    "editable": true,
    "slideshow": {
     "slide_type": "slide"
    },
    "tags": []
   },
   "outputs": [
    {
     "data": {
      "application/vnd.jupyter.widget-view+json": {
       "model_id": "43b182dd6a4646f987fc24b77b09e759",
       "version_major": 2,
       "version_minor": 0
      },
      "text/plain": [
       "Training:   0%|          | 0/10 [00:00<?, ?it/s]"
      ]
     },
     "metadata": {},
     "output_type": "display_data"
    },
    {
     "data": {
      "image/png": "[encoded data removed]",
      "text/plain": [
       "<Figure size 400x300 with 1 Axes>"
      ]
     },
     "metadata": {},
     "output_type": "display_data"
    }
   ],
   "source": [
    "train_model_mini_batch_with_validation(\n",
    "    EPOCHS, \n",
    "    train_loader, \n",
    "    valid_loader, \n",
    "    model, \n",
    "    loss_function, \n",
    "    optimizer)"
   ]
  },
  {
   "cell_type": "markdown",
   "id": "a16b6c2e",
   "metadata": {
    "editable": true,
    "slideshow": {
     "slide_type": "slide"
    },
    "tags": []
   },
   "source": [
    "## Convolução em CNNs\n",
    "---\n",
    "\n",
    "<center>\n",
    "<table style=\"width:100%;border:none;\">\n",
    "<tr>\n",
    "<td style=\"vertical-align:middle;text-align:left;border:none;\">\n",
    "\n",
    "- O bloco fundamental de uma CNN é a **Camada Convolucional**.\n",
    "- A convolução é uma busca por padrões: o filtro desliza sobre a imagem, procurando por uma característica específica.\n",
    "- Se o padrão do filtro corresponder à região da imagem, o resultado será um valor alto (ativação).\n",
    "- **Conectividade Local:** Os neurônios da CNN se conectam apenas a uma pequena região local do volume de entrada, chamada **campo receptivo**.\n",
    "- Isso explora a correlação local, pois as características importantes (bordas, curvas) são localizadas.\n",
    "\n",
    "</td>\n",
    "<td style=\"vertical-align:middle;text-align:center;border:none;\">\n",
    "<img src=\"https://www.tutorialspoint.com/tensorflow/images/convolutional_neural_networks.jpg\"/>\n",
    " <span style='display:block;'>Convolução na camada escondida. Fonte: <a href=\"http://neuralnetworksanddeeplearning.com/chap6.html\" target=\"_blank\">Michael Nielsen</a>.</span>\n",
    "</td>\n",
    "</tr>\n",
    "</table>\n",
    "</center>\n",
    "\n",
    "\n"
   ]
  },
  {
   "cell_type": "markdown",
   "id": "904fe558",
   "metadata": {
    "editable": true,
    "slideshow": {
     "slide_type": "slide"
    },
    "tags": []
   },
   "source": [
    "## Convolução em CNNs\n",
    "---\n",
    "\n",
    "<center>\n",
    "<table style=\"width:100%;border:none;\">\n",
    "<tr>\n",
    "<td style=\"vertical-align:middle;text-align:left;border:none;width:40%;\">\n",
    "\n",
    "- Cada filtro na camada convolucional aprende a detectar um tipo de característica (**feature**).\n",
    "- Nas camadas iniciais, os filtros detectam características de baixo nível, como bordas horizontais, verticais e curvas.\n",
    "- **O filtro em si é uma matriz de pesos (parâmetros) cujos valores são aprendidos durante o treinamento via backpropagation.**\n",
    "\n",
    "</td>\n",
    "<td style=\"vertical-align:middle;text-align:center;border:none;\">\n",
    "<img src=\"https://www.tutorialspoint.com/tensorflow/images/convolutional_neural_networks.jpg\" width=\"600\">\n",
    " <span style='display:block;'>Convolução no primeiro neurônio da camada escondida. Fonte: <a href=\"http://neuralnetworksanddeeplearning.com/chap6.html\" target=\"_blank\">Michael Nielsen</a>.</span>\n",
    "</td>\n",
    "</tr>\n",
    "</table>\n",
    "</center>\n"
   ]
  },
  {
   "cell_type": "markdown",
   "id": "4e020d49",
   "metadata": {
    "editable": true,
    "slideshow": {
     "slide_type": "slide"
    },
    "tags": []
   },
   "source": [
    "## Convolução em CNNs\n",
    "---\n",
    "\n",
    "- A operação de convolução (para fins de CNN) é o **produto escalar** (multiplicação elemento a elemento seguida por soma) entre o filtro e a região de entrada correspondente. $\\text{Output} = \\sum_{i, j} (\\text{Input}_{i, j} \\times \\text{Filter}_{i, j}) + \\text{Bias} $\n",
    "- O resultado é um único número que mede o grau de correspondência do filtro com a região de entrada. Veja também: [Convolution arithmetic](https://github.com/vdumoulin/conv_arithmetic).\n",
    "- Esse processo é repetido para cada localização onde o filtro desliza.\n",
    "- Os resultados são colocados em uma matriz de saída chamada **Mapa de Ativação** (Activation Map) ou **Mapa de Características** (Feature Map).\n",
    "\n",
    "<div style='align: left; text-align:center;'>\n",
    "    <img src='https://poloclub.github.io/cnn-explainer/assets/figures/convlayer_detailedview_demo.gif' alt='Convolução CNN' style=\"width:400px;\"/>\n",
    "    <span style='display:block;'>Convolução e Feature Map. Fonte: <a href=\"https://poloclub.github.io/cnn-explainer/\" target=\"_blank\"> CNN Explainer</a>.</span>\n",
    "    <br/>\n",
    "</div>\n"
   ]
  },
  {
   "cell_type": "markdown",
   "id": "90280ef8",
   "metadata": {
    "editable": true,
    "slideshow": {
     "slide_type": "slide"
    },
    "tags": []
   },
   "source": [
    "## Convolução 3D\n",
    "---\n",
    "\n",
    "<div style='align: left; text-align:center;'>\n",
    "    <img src='https://framerusercontent.com/images/ZS9Atu2axnCtVjlj1gKbXMLAA78.png' alt='Convolução CNN' style=\"width:600px;\"/>\n",
    "    <span style='display:block;'>Convolução e Volume. Fonte: <a href=\"https://www.v7labs.com/blog/convolutional-neural-networks-guide\" target=\"_blank\"> V7 Labs</a>.</span>\n",
    "    <br/>\n",
    "</div>\n"
   ]
  },
  {
   "cell_type": "markdown",
   "id": "c8fab424",
   "metadata": {
    "editable": true,
    "slideshow": {
     "slide_type": "slide"
    },
    "tags": []
   },
   "source": [
    "## Hyperparâmetros da Convolução\n",
    "---\n",
    "\n",
    "- **Kernel Size ($F$):** Tamanhos comuns são $3 \\times 3$ ou $5 \\times 5$. Tamanhos menores são frequentemente preferidos para extrair features com menos parâmetros.\n",
    "- **Número de Filtros:** Aumenta com a profundidade; geralmente começa em 32 e dobra (64, 128, etc.).\n",
    "- **Stride ($S$):** É o número de pixels que o filtro se move (desloca) sobre a entrada a cada iteração.\n",
    "    - **Stride = 1:** O filtro se move um pixel por vez, resultando em sobreposição de campos receptivos e um mapa de ativação grande.\n",
    "    - **Stride > 1:** Causa um \"salto\" maior do filtro, resultando em menos etapas e um mapa de ativação espacialmente menor.\n",
    "    - Um *stride* maior reduz a dimensionalidade e o custo computacional.\n",
    "- **Padding**: É a adição de pixels extras (geralmente com valor zero, **Zero-Padding**) em torno das bordas da imagem de entrada.\n",
    "    - **Problema de Redução:** Sem padding, a convolução geralmente reduz o tamanho espacial da saída. Padding garante que os pixels de borda (que seriam pouco usados) participem do campo receptivo.\n",
    "    - **Padding \"Same\" (Igual):** Adiciona zeros o suficiente para que a dimensão espacial da saída seja a mesma da entrada (assumindo $S=1$).\n",
    "    - **Padding \"Valid\" (Válido):** Não usa padding, resultando em uma saída menor que a entrada."
   ]
  },
  {
   "cell_type": "markdown",
   "id": "5bee3a36",
   "metadata": {
    "editable": true,
    "slideshow": {
     "slide_type": "slide"
    },
    "tags": []
   },
   "source": [
    "## Mapa de Ativação\n",
    "---\n",
    "**Determinando o Tamanho do Mapa de Ativação**:\n",
    "- O tamanho espacial de saída $O$ de uma camada convolucional é determinado pela dimensão de entrada ($N$), tamanho do kernel ($F$), Padding ($P$) e Stride ($S$).\n",
    "- Para que o resultado seja um inteiro, a fórmula abaixo deve ser satisfeita.\n",
    "\n",
    "$$ O = \\lfloor \\frac{N - F + 2P}{S} \\rfloor + 1 $$\n",
    "\n",
    "\n",
    "**Exemplo**: Imagem de entrada $32 \\times 32$ ($N=32$), Kernel $5 \\times 5$ ($F=5$).\n",
    "- **Cenário 1 (Stride e Padding):** Stride $S=1$. Para obter *Same Padding* (preservar 32x32), $P$ deve ser: $P = (F-1)/2 = (5-1)/2 = 2$.\n",
    "    - $O = \\frac{32 - 5 + 2(2)}{1} + 1 = \\frac{31}{1} + 1 = 32$\n",
    "    - A saída é $32 \\times 32$ (tamanho preservado).\n",
    "- **Cenário 2 (Sem Padding, Stride 1):** $P=0, S=1$.\n",
    "    - $O = \\frac{32 - 5 + 0}{1} + 1 = 27 + 1 = 28 $\n",
    "    - A saída é $28 \\times 28$.\n"
   ]
  },
  {
   "cell_type": "markdown",
   "id": "b951b066",
   "metadata": {
    "editable": true,
    "slideshow": {
     "slide_type": "slide"
    },
    "tags": []
   },
   "source": [
    "\n",
    "## Compartilhamento de Parâmetros\n",
    "---\n",
    "\n",
    "- O **Compartilhamento de Parâmetros** é uma característica distintiva das CNNs.\n",
    "- O mesmo filtro (conjunto de pesos) é usado em todas as posições espaciais da camada de entrada. \n",
    "- Para um filtro 5x5: $\\sigma\\left(b + \\sum_{l=0}^4 \\sum_{m=0}^4  w_{l,m} a_{j+l, k+m} \\right)$\n",
    "- **Vantagem I: Redução de Parâmetros:** Em vez de cada neurônio ter seu próprio conjunto de pesos, muitos neurônios compartilham o mesmo filtro.\n",
    "- **Vantagem II: Equivariância à Translação:** Se uma característica (ex: uma linha) for útil em uma parte da imagem, ela será útil em qualquer outra parte.\n",
    "- O filtro aprende a detectar a característica independentemente da sua localização exata."
   ]
  },
  {
   "cell_type": "markdown",
   "id": "ed21997f",
   "metadata": {
    "editable": true,
    "slideshow": {
     "slide_type": "slide"
    },
    "tags": []
   },
   "source": [
    "## Função de Ativação (ReLU)\n",
    "---\n",
    "- Após a operação de convolução (que é linear), uma função de ativação é aplicada ao mapa de ativação para introduzir não-linearidade.\n",
    "- **ReLU** é a função mais comum: $f(x) = \\max(0, x)$.\n",
    "- Ela remove valores negativos, ajustando-os para zero, o que pode ser visto como uma função de limiar (thresholding).\n",
    "\n",
    "<div style='align: left; text-align:center;'>\n",
    "    <img src='https://www.bouvet.no/bouvet-deler/understanding-convolutional-neural-networks-part-1/_/attachment/inline/8dd1e76d-a5bc-4a55-8f8d-b5fc2085a148:046fe87f48f07020b5cf6e8198a97a233faa78a9/Screenshot%202019-07-01%20at%2013.17.12.png' alt='Efeito da ReLU' style=\"width:600px;\"/>\n",
    "    <span style='display:block;'>Efeito da ReLU. Fonte: <a href=\"https://www.bouvet.no/bouvet-deler/understanding-convolutional-neural-networks-part-1\" target=\"_blank\"> Bouvet</a>.</span>\n",
    "    <br/>\n",
    "</div>\n"
   ]
  },
  {
   "cell_type": "markdown",
   "id": "79c28b18",
   "metadata": {
    "editable": true,
    "slideshow": {
     "slide_type": "slide"
    },
    "tags": []
   },
   "source": [
    "## Pooling (Subamostragem)\n",
    "---\n",
    "\n",
    "- O **Pooling** é uma forma de subamostragem (downsampling) não linear, geralmente inserida periodicamente entre camadas convolucionais.\n",
    "- **Objetivos Principais:**\n",
    "    - Reduzir a dimensionalidade espacial (Altura e Largura).\n",
    "    - Reduzir o número de parâmetros e a quantidade de computação.\n",
    "    - Ajudar a controlar o overfitting.\n",
    "    - Conceder um grau de **invariância local à translação**.\n",
    "- O filtro de pooling **não tem parâmetros treináveis** (não tem pesos).\n",
    "- Um $2 \\times 2$ Max Pooling com $S=2$ descarta 75% das ativações espaciais\n",
    "\n",
    "<table style=\"width:100%;border:none;\">\n",
    "<tr>\n",
    "<td style=\"vertical-align:middle;text-align:center;border:none;\">\n",
    "<img src=\"https://stanford.edu/~shervine/teaching/cs-230/illustrations/max-pooling-a.png?711b14799d07f9306864695e2713ae07\" width=\"400\">\n",
    " <span style='display:block;'>Max pooling. Fonte: <a href=\"https://stanford.edu/~shervine/teaching/cs-230/cheatsheet-convolutional-neural-networks\" target=\"_blank\">Stanford.edu</a>.</span>\n",
    "\n",
    "</td>\n",
    "<td style=\"vertical-align:middle;text-align:center;border:none;\">\n",
    "<img src=\"https://stanford.edu/~shervine/teaching/cs-230/illustrations/average-pooling-a.png?58f9ab6d61248c3ec8d526ef65763d2f\" width=\"400\">\n",
    "<span style='display:block;'>Average pooling. Fonte: <a href=\"https://stanford.edu/~shervine/teaching/cs-230/cheatsheet-convolutional-neural-networks\" target=\"_blank\">Stanford.edu</a>.</span>\n",
    "</td>\n",
    "</tr>\n",
    "</table>"
   ]
  },
  {
   "cell_type": "markdown",
   "id": "800ea44b",
   "metadata": {
    "editable": true,
    "slideshow": {
     "slide_type": "slide"
    },
    "tags": []
   },
   "source": [
    "## Pooling: Exemplo numérico\n",
    "---\n",
    "\n",
    "\n",
    "\n",
    "<div style='align: left; text-align:center;'>\n",
    "    <img src=\"https://github.com/rasbt/machine-learning-book/blob/main/ch14/figures/14_08.png?raw=true\" width=\"600\">\n",
    " <span style='display:block;'>Pooling. Fonte: <a href=\"https://github.com/rasbt/machine-learning-book/blob/main/ch14/figures/14_08.png\" target=\"_blank\">Sebastian Raschka</a>.</span>\n",
    "    <br/>\n",
    "</div>\n"
   ]
  },
  {
   "cell_type": "markdown",
   "id": "87e600eb",
   "metadata": {
    "editable": true,
    "slideshow": {
     "slide_type": "slide"
    },
    "tags": []
   },
   "source": [
    "## Fully Connected (FC)\n",
    "---\n",
    "\n",
    "- Após uma série de camadas Convolucionais e de Pooling, o volume de dados contém características de alto nível.\n",
    "- A última etapa é a classificação, realizada por camadas **Totalmente Conectadas (FC)** (ou densas).\n",
    "- **Flattening (Achatamento):** O volume 3D final do extrator de características deve ser convertido em um vetor 1D antes de entrar na primeira camada FC.\n",
    "- As camadas FC mapeiam as características extraídas para as probabilidades de classe.\n",
    "- O número de neurônios na camada de saída é igual ao número de classes (e.g., 10 para MNIST).\n",
    "- Para classificação de imagens: A camada de saída do classificador FC tipicamente usa a função de ativação **Softmax** para converter os valores brutos de saída da rede em probabilidades normalizadas.\n",
    "\n",
    "<div style='align: left; text-align:center;'>\n",
    "    <img src=\"https://stanford.edu/~shervine/teaching/cs-230/illustrations/fully-connected-ltr.png?32caf9e07c79d652faa292812579d063\" width=\"400\">\n",
    " <span style='display:block;'>Camada FC. Fonte: <a href=\"https://stanford.edu/~shervine/teaching/cs-230/cheatsheet-convolutional-neural-networks\" target=\"_blank\">Stanford.edu</a>.</span>\n",
    "    <br/>\n",
    "</div>"
   ]
  },
  {
   "cell_type": "markdown",
   "id": "de96b78e",
   "metadata": {
    "editable": true,
    "slideshow": {
     "slide_type": "slide"
    },
    "tags": []
   },
   "source": [
    "## Arquitetura CNN\n",
    "---\n",
    "\n",
    "- Uma CNN de classificação é dividida em duas partes principais:\n",
    "    1.  **Extrator de Características (Feature Extractor):** Composto por blocos Conv + ReLU + Pooling (ou ConvBlocks). É comum empilhar 2 ou 3 camadas Conv/ReLU consecutivas antes de uma camada Pooling.\n",
    "    2.  **Classificador (Classifier):** Composto por camadas FC + Softmax.\n",
    "- O fluxo de dados transforma o volume de entrada, tipicamente reduzindo as dimensões espaciais (H, W) e aumentando a profundidade (Canais/Filtros).\n",
    "- **Hierarquia de Características:**\n",
    "    - Camadas iniciais aprendem elementos simples (bordas, cores).\n",
    "    - Camadas médias combinam elementos simples em formas mais complexas (e.g., olhos, rodas).\n",
    "    - Camadas profundas aprendem conceitos abstratos de alto nível (e.g., faces, objetos inteiros).\n",
    "\n",
    "<div style='align: left; text-align:center;'>\n",
    "    <img src=\"https://learnopencv.com/wp-content/uploads/2023/01/tensorflow-keras-convolutional-blocks-summary-1024x299.png\" width=\"600\">\n",
    " <span style='display:block;'>Exemplo de Arquitetura de uma CNN. Fonte: <a href=\"https://learnopencv.com/understanding-convolutional-neural-networks-cnn/\" target=\"_blank\">LearnOpenCV</a>.</span>\n",
    "    <br/>\n",
    "</div>\n"
   ]
  },
  {
   "cell_type": "markdown",
   "id": "1bedff32",
   "metadata": {
    "editable": true,
    "slideshow": {
     "slide_type": "slide"
    },
    "tags": []
   },
   "source": [
    "## Treinamento\n",
    "---\n",
    "\n",
    "- As CNNs são tipicamente treinadas usando **Aprendizado Supervisionado**.\n",
    "- Os pesos iniciais (elementos dos filtros) são definidos aleatoriamente.\n",
    "- O processo de aprendizagem utiliza o **Backpropagation** e o **Gradiente Descendente**.\n",
    "- **Loss Function (Função de Perda):** Mede o erro entre a previsão da rede e o rótulo verdadeiro (Ground Truth).\n",
    "- **Otimização:** O algoritmo ajusta iterativamente os pesos (filtros e FC) para minimizar a perda.\n",
    "\n",
    "<div class=\"alert alert-block alert-info\">\n",
    "Mais informações sobre o algoritmo de Backpropagation e Gradiente Descendente na próxima aula.\n",
    "</div>"
   ]
  },
  {
   "cell_type": "markdown",
   "id": "a7ded794",
   "metadata": {
    "editable": true,
    "slideshow": {
     "slide_type": "slide"
    },
    "tags": []
   },
   "source": [
    "## Resumo\n",
    "\n",
    "---\n",
    "\n",
    "<table style=\"width:100%;border:none;\">\n",
    "<tr>\n",
    "<td style=\"vertical-align:middle;text-align:left;border:none;width:65%;\">\n",
    "\n",
    "- As CNNs são inerentemente adequadas para processar imagens devido a três propriedades principais:\n",
    "    1.  **Conectividade Local:** Foca na correlação espacial, que é forte em imagens.\n",
    "    2.  **Compartilhamento de Pesos:** Reduz drasticamente os parâmetros, mitigando o overfitting e tornando o modelo escalável.\n",
    "    3.  **Pooling:** Introduz downsampling, que reduz a complexidade e a memória, e concede invariância local a pequenas variações de posição.\n",
    "- A capacidade de aprender características (filtros) automaticamente elimina a necessidade de definir manualmente os recursos visuais.\n",
    "- **Arquitetura:** CNNs são formadas por um Extrator de Características (Conv/Pooling) seguido por um Classificador (FC/Softmax).\n",
    "- **Leitura Recomendada**:\n",
    "  - [An Introduction to Convolutional Neural Networks](https://arxiv.org/pdf/1511.08458).\n",
    "  - [CNN Explainer](https://poloclub.github.io/cnn-explainer/)\n",
    "  - [ConvNets by Stanford](https://cs231n.github.io/convolutional-networks/)\n",
    "\n",
    "</td>\n",
    "<td style=\"vertical-align:middle;text-align:center;border:none;width:35%;\">\n",
    "\n",
    "    \n",
    "<div style='align:center; text-align:center;'>\n",
    "    <img src='https://hadrienj.github.io/assets/images/deep-learning-book-goodfellow-cover.jpg' style=\"width:200px;\"/>\n",
    "    <span style='display:block;'><b>Leitura Recomendada</b>: Capítulo 9.</span>\n",
    "</div> \n",
    "\n",
    "</td>\n",
    "</tr>\n",
    "</table>"
   ]
  },
  {
   "cell_type": "markdown",
   "id": "13db396d",
   "metadata": {
    "editable": true,
    "jp-MarkdownHeadingCollapsed": true,
    "slideshow": {
     "slide_type": "slide"
    },
    "tags": []
   },
   "source": [
    "## Perguntas e Discussão\n",
    "---\n",
    "\n",
    "1. O Perceptron Multicamadas (MLP) é a arquitetura básica de redes neurais. Por que os MLPs são inerentemente inadequados para processar imagens de alta resolução, e como a CNN supera a principal limitação de dimensionalidade do MLP?\n",
    "2. As três principais operações em um extrator de características de CNN são **Convolução**, **ReLU** e **Pooling**. Qual é a contribuição fundamental de cada uma dessas operações para a capacidade de uma CNN aprender e generalizar, especialmente no contexto de downsampling?\n",
    "3. O treinamento de uma CNN envolve o aprendizado automático de filtros (pesos). Descreva a natureza hierárquica das características aprendidas em CNNs profundas. O que um filtro (kernel) típico nas camadas iniciais detecta em comparação com as características detectadas nas camadas mais profundas?\n",
    "4.  Qual é o objetivo do **Zero-Padding** e qual o valor de padding ($P$) deve ser escolhido para um filtro de tamanho $F$ se quisermos garantir que a saída espacial ($O$) seja exatamente a mesma que a entrada espacial ($N$), assumindo um Stride ($S$) de 1? Demonstre usando a fórmula do tamanho de saída.\n",
    "5. Vimos que os filtros não são pré-definidos manualmente, mas sim aprendidos. Na fase de treinamento, como o algoritmo de Backpropagation (Retropropagação) \"sabe\" qual filtro deve ser ajustado para detectar uma curva ou uma linha, se os pesos são inicializados aleatoriamente? Por que esse processo não é considerado \"sorte\" ou aleatório?"
   ]
  }
 ],
 "metadata": {
  "kernelspec": {
   "display_name": "Python 3 (ipykernel)",
   "language": "python",
   "name": "python3"
  },
  "language_info": {
   "codemirror_mode": {
    "name": "ipython",
    "version": 3
   },
   "file_extension": ".py",
   "mimetype": "text/x-python",
   "name": "python",
   "nbconvert_exporter": "python",
   "pygments_lexer": "ipython3",
   "version": "3.13.5"
  }
 },
 "nbformat": 4,
 "nbformat_minor": 5
}
