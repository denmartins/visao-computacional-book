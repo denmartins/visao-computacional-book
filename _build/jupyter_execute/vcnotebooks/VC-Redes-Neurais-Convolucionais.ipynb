{
 "cells": [
  {
   "cell_type": "markdown",
   "id": "22c4ffd2",
   "metadata": {
    "editable": true,
    "slideshow": {
     "slide_type": "slide"
    },
    "tags": []
   },
   "source": [
    "# [Visão Computacional](https://denmartins.github.io/teaching/2025-visao-computacional)\n",
    "\n",
    "## Redes Neurais Convolucionais (CNNs)\n",
    "\n",
    "### [Prof. Dr. Denis Mayr Lima Martins](https://denmartins.github.io/)\n",
    "\n",
    "### [Pontifícia Universidade Católica de Campinas](https://www.puc-campinas.edu.br/)\n",
    "\n",
    "<img src=\"https://www.puc-campinas.edu.br/wp-content/uploads/2022/06/logo-puc.png\" width=\"100px\"/>\n"
   ]
  },
  {
   "cell_type": "markdown",
   "id": "0c1bf642",
   "metadata": {},
   "source": [
    "## Recap: MLP para o MNIST dataset\n",
    "---\n",
    "\n",
    "<div style='align: left; text-align:center;'>\n",
    "    <img src='https://editor.analyticsvidhya.com/uploads/95577cnn2.gif' alt='MLP para MNIST dataset.' style=\"width:600px;\"/>\n",
    "    <span style='display:block;'>MLP para MNIST dataset. Fonte: <a href=\"https://editor.analyticsvidhya.com/uploads/95577cnn2.gif\" target=\"_blank\"> Analytics Vidhya</a>.</span>\n",
    "    <br/>\n",
    "</div>\n"
   ]
  },
  {
   "cell_type": "markdown",
   "id": "35148608",
   "metadata": {
    "editable": true,
    "slideshow": {
     "slide_type": "slide"
    },
    "tags": []
   },
   "source": [
    "## Neurônio da Camada Escondida\n",
    "---\n",
    "\n",
    "<center>\n",
    "<table style=\"width:100%;border:none;\">\n",
    "<tr>\n",
    "<td style=\"vertical-align:middle;text-align:center;border:none;\">\n",
    "    <img src='https://ml4a.github.io/images/figures/mnist_1layer.png' style=\"width:100%;\"/>\n",
    "    <span style='display:block;'>Rede de 1 camada para o MNIST dataset. Fonte: <a href=\"https://ml4a.github.io/ml4a/looking_inside_neural_nets/\" target=\"_blank\">ML4a</a>.</span>\n",
    "</td>\n",
    "<td style=\"vertical-align:middle;text-align:center;border:none;\">\n",
    "    <img src='https://ml4a.github.io/images/figures/weights_analogy_1.png' style=\"width:100%;\"/>\n",
    "    <span style='display:block;'>Net input de um neurônio na camada escondida. Fonte: <a href=\"https://ml4a.github.io/ml4a/looking_inside_neural_nets/\" target=\"_blank\">ML4a</a>.</span>\n",
    "</td>\n",
    "</tr>\n",
    "</table>\n",
    "</center>\n"
   ]
  },
  {
   "cell_type": "markdown",
   "id": "d09d8d70",
   "metadata": {},
   "source": [
    "## Neurônio da Camada Escondida\n",
    "---\n",
    "\n",
    "<div style='align: left; text-align:center;'>\n",
    "    <img src='\n",
    "    https://ml4a.github.io/images/figures/rolled_weights_mnist_0.png' alt='Representação em Imagem de um Neurônio da Camada Escondida de uma MLP para o MNIST dataset.' style=\"width:800px;\"/>\n",
    "    <span style='display:block;'>Representação em Imagem de um Neurônio da Camada Escondida de uma MLP para o MNIST dataset. Fonte: <a href=\"https://ml4a.github.io/ml4a/looking_inside_neural_nets/\" target=\"_blank\"> ML4a</a>.</span>\n",
    "    <br/>\n",
    "</div>"
   ]
  },
  {
   "cell_type": "markdown",
   "id": "39aa5805",
   "metadata": {},
   "source": [
    "## Neurônio da Camada Escondida\n",
    "---\n",
    "\n",
    "<div style='align: left; text-align:center;'>\n",
    "    <img src='\n",
    "    https://ml4a.github.io/images/figures/rolled_weights_mnist.png' alt='Visualização dos Neurônios da Camada de Saída de uma MLP para o MNIST dataset.' style=\"width:800px;\"/>\n",
    "    <span style='display:block;'>Visualização dos Neurônios da Camada de Saída de uma MLP para o MNIST dataset.. Fonte: <a href=\"https://ml4a.github.io/ml4a/looking_inside_neural_nets/\" target=\"_blank\"> ML4a</a>.</span>\n",
    "    <br/>\n",
    "</div>"
   ]
  },
  {
   "cell_type": "markdown",
   "id": "9f2886ca",
   "metadata": {},
   "source": [
    "## Limitações da Rede MLP\n",
    "---\n",
    "\n",
    "- **Dimensionalidade Alta:** Uma imagem 224x244x3 tem 150.528 pixels/entradas. Cada neurônio na primeira camada oculta de um MLP precisaria de 150.528 pesos, levando a bilhões de parâmetros treináveis em uma rede profunda.\n",
    "- O grande número de parâmetros torna o modelo propenso a **overfitting** (superajuste).\n",
    "\n",
    "<div style='align: left; text-align:center;'>\n",
    "    <img src='\n",
    "    https://learnopencv.com/wp-content/uploads/2023/01/tensorflow-keras-mlp-parameters-1024x414.png' alt='MLPs têm alta dimensionalidade.' style=\"width:800px;\"/>\n",
    "    <span style='display:block;'>Alta dimensionalidade das MLPs para imagens. Frequentemente levando a overfitting. Fonte: <a href=\"https://learnopencv.com/understanding-convolutional-neural-networks-cnn/\" target=\"_blank\"> LearnOpenCV</a>.</span>\n",
    "    <br/>\n",
    "</div>\n"
   ]
  },
  {
   "cell_type": "markdown",
   "id": "f66dae45",
   "metadata": {},
   "source": [
    "\n",
    "<div style='align: left; text-align:center;'>\n",
    "    <img src='https://media.datacamp.com/legacy/v1700044100/image3_93b1b7c0d9.png' alt='Underfitting versus Overfitting.' style=\"width:800px;\"/>\n",
    "    <span style='display:block;'>Underfitting versus Overfitting. Fonte: <a href=\"https://www.datacamp.com/pt/tutorial/introduction-to-convolutional-neural-networks-cnns\" target=\"_blank\"> DataCamp</a>.</span>\n",
    "    <br/>\n",
    "</div>\n",
    "\n"
   ]
  },
  {
   "cell_type": "markdown",
   "id": "34ab184d",
   "metadata": {},
   "source": [
    "## Limitações da Rede MLP\n",
    "---\n",
    "- **Perda de Estrutura Espacial:** MLPs exigem que a imagem 2D/3D seja \"achatada\" (flattened) em um vetor 1D.\n",
    "- Isso destrói a informação de localidade: pixels próximos (semânticos) são tratados da mesma forma que pixels distantes.\n",
    "\n",
    "<div style='align: left; text-align:center;'>\n",
    "    <img src='https://learnopencv.com/wp-content/uploads/2023/01/tensorflow-keras-mlp-image-translation.png' alt='MLPs não são invariantes à translação' style=\"width:800px;\"/>\n",
    "    <span style='display:block;'>MLPs não são invariantes à translação. Fonte: <a href=\"https://learnopencv.com/understanding-convolutional-neural-networks-cnn/\" target=\"_blank\"> LearnOpenCV</a>.</span>\n",
    "    <br/>\n",
    "</div>\n"
   ]
  },
  {
   "cell_type": "markdown",
   "id": "1a5f894a",
   "metadata": {
    "editable": true,
    "slideshow": {
     "slide_type": "slide"
    },
    "tags": []
   },
   "source": [
    "## Objetivos de Aprendizagem\n",
    "---\n",
    "\n",
    "- Explicar por que CNNs são adequadas para dados de imagem.  \n",
    "- Descrever os blocos fundamentais (convolução, padding, stride, pooling, ativação).  \n",
    "- Esboçar uma arquitetura simples de CNN e justificar cada componente.  \n",
    "- Implementar um CNN mínimo em PyTorch que classifica dígitos MNIST.  "
   ]
  },
  {
   "cell_type": "markdown",
   "id": "e63d4322",
   "metadata": {},
   "source": [
    "## Redes Neurais Convolucionais\n",
    "---\n",
    "\n",
    "- Convolutional Neural Nets (**CNNs** ou ConvNets) são arquiteturas de redes neurais otimizadas para dados com estrutura de grade, como imagens.\n",
    "- CNN aplica uma série de transformações na imagem original (veja esquema abaixo) com três tipos de camadas (**convolution, pooling e fully connected**).\n",
    "- A sequência de camadas antes da camada fully connected é chamada de extrator de características.\n",
    "<div style='align: left; text-align:center;'>\n",
    "    <img src='https://wiki.pathmind.com/images/wiki/convnet.png' alt='Exemplo de CNN' style=\"width:800px;\"/>\n",
    "    <span style='display:block;'>Estrutura geral de uma CNN. Fonte: <a href=\"https://wiki.pathmind.com/convolutional-network\" target=\"_blank\"> pathmind</a>.</span>\n",
    "    <br/>\n",
    "</div>"
   ]
  },
  {
   "cell_type": "markdown",
   "id": "3782cf8e",
   "metadata": {},
   "source": [
    "## Demo de CNN para o MNIST\n",
    "---\n",
    "\n",
    "<div style='align: left; text-align:center;'>\n",
    "    <img src='https://www.popsci.com/wp-content/uploads/2019/03/18/YJNDG7MQQDINTOGCDUJGTHZ4N4.png' alt='Demonstração de CNN para MNIST' style=\"width:400px;\"/>\n",
    "    <span style='display:block;'>Estrutura geral de uma CNN. Fonte: <a href=\"https://adamharley.com/nn_vis/cnn/3d.html\" target=\"_blank\"> Adam W. Harley</a>.</span>\n",
    "    <br/>\n",
    "</div>\n",
    "\n",
    "<center>\n",
    "\n",
    "\n",
    "</center>"
   ]
  },
  {
   "cell_type": "markdown",
   "id": "f71e2bef",
   "metadata": {},
   "source": [
    "## CNN em Pytorch: Demo\n",
    "---"
   ]
  },
  {
   "cell_type": "code",
   "execution_count": 1,
   "id": "07ec48a1",
   "metadata": {},
   "outputs": [],
   "source": [
    "import torch.nn as nn\n",
    "import torch.nn.functional as F\n",
    "\n",
    "class SimpleCNN(nn.Module):\n",
    "    def __init__(self):\n",
    "        super(SimpleCNN, self).__init__()\n",
    "        self.sequential = nn.Sequential(\n",
    "            # Primeira camada convolucional\n",
    "            # Input: 1 canal (grayscale). Output: 32 filtros. Kernel: 3x3.\n",
    "            nn.Conv2d(in_channels=1, out_channels=32, kernel_size=2, padding=1),\n",
    "            nn.ReLU(),\n",
    "            # Segunda camada convolucional\n",
    "            # Input: 32 canais. Output: 64 filtros.\n",
    "            nn.Conv2d(in_channels=32, out_channels=64, kernel_size=2, padding=1),\n",
    "            # Pooling Max: 2x2\n",
    "            nn.MaxPool2d(kernel_size = 2, stride = 2),\n",
    "            # Camada FC será definida após o cálculo do tamanho de flatten.\n",
    "            nn.Flatten(),\n",
    "            # Definindo as camadas FC\n",
    "            # Camada Totalmente Conectada 1\n",
    "            nn.Linear(14400, 128),\n",
    "            nn.ReLU(),\n",
    "            # Camada de Saída (10 classes para MNIST)\n",
    "            nn.Linear(128, 10)\n",
    "        )\n",
    "\n",
    "    def forward(self, x):\n",
    "        return self.sequential(x)\n"
   ]
  },
  {
   "cell_type": "code",
   "execution_count": 2,
   "id": "6f6ec630",
   "metadata": {},
   "outputs": [
    {
     "name": "stderr",
     "output_type": "stream",
     "text": [
      "\n",
      "A module that was compiled using NumPy 1.x cannot be run in\n",
      "NumPy 2.2.5 as it may crash. To support both 1.x and 2.x\n",
      "versions of NumPy, modules must be compiled with NumPy 2.0.\n",
      "Some module may need to rebuild instead e.g. with 'pybind11>=2.12'.\n",
      "\n",
      "If you are a user of the module, the easiest solution will be to\n",
      "downgrade to 'numpy<2' or try to upgrade the affected module.\n",
      "We expect that some modules will need time to support NumPy 2.\n",
      "\n",
      "Traceback (most recent call last):  File \"<frozen runpy>\", line 198, in _run_module_as_main\n",
      "  File \"<frozen runpy>\", line 88, in _run_code\n",
      "  File \"/opt/anaconda3/lib/python3.11/site-packages/ipykernel_launcher.py\", line 17, in <module>\n",
      "    app.launch_new_instance()\n",
      "  File \"/opt/anaconda3/lib/python3.11/site-packages/traitlets/config/application.py\", line 992, in launch_instance\n",
      "    app.start()\n",
      "  File \"/opt/anaconda3/lib/python3.11/site-packages/ipykernel/kernelapp.py\", line 701, in start\n",
      "    self.io_loop.start()\n",
      "  File \"/opt/anaconda3/lib/python3.11/site-packages/tornado/platform/asyncio.py\", line 195, in start\n",
      "    self.asyncio_loop.run_forever()\n",
      "  File \"/opt/anaconda3/lib/python3.11/asyncio/base_events.py\", line 607, in run_forever\n",
      "    self._run_once()\n",
      "  File \"/opt/anaconda3/lib/python3.11/asyncio/base_events.py\", line 1922, in _run_once\n",
      "    handle._run()\n",
      "  File \"/opt/anaconda3/lib/python3.11/asyncio/events.py\", line 80, in _run\n",
      "    self._context.run(self._callback, *self._args)\n",
      "  File \"/opt/anaconda3/lib/python3.11/site-packages/ipykernel/kernelbase.py\", line 534, in dispatch_queue\n",
      "    await self.process_one()\n",
      "  File \"/opt/anaconda3/lib/python3.11/site-packages/ipykernel/kernelbase.py\", line 523, in process_one\n",
      "    await dispatch(*args)\n",
      "  File \"/opt/anaconda3/lib/python3.11/site-packages/ipykernel/kernelbase.py\", line 429, in dispatch_shell\n",
      "    await result\n",
      "  File \"/opt/anaconda3/lib/python3.11/site-packages/ipykernel/kernelbase.py\", line 767, in execute_request\n",
      "    reply_content = await reply_content\n",
      "  File \"/opt/anaconda3/lib/python3.11/site-packages/ipykernel/ipkernel.py\", line 429, in do_execute\n",
      "    res = shell.run_cell(\n",
      "  File \"/opt/anaconda3/lib/python3.11/site-packages/ipykernel/zmqshell.py\", line 549, in run_cell\n",
      "    return super().run_cell(*args, **kwargs)\n",
      "  File \"/opt/anaconda3/lib/python3.11/site-packages/IPython/core/interactiveshell.py\", line 3051, in run_cell\n",
      "    result = self._run_cell(\n",
      "  File \"/opt/anaconda3/lib/python3.11/site-packages/IPython/core/interactiveshell.py\", line 3106, in _run_cell\n",
      "    result = runner(coro)\n",
      "  File \"/opt/anaconda3/lib/python3.11/site-packages/IPython/core/async_helpers.py\", line 129, in _pseudo_sync_runner\n",
      "    coro.send(None)\n",
      "  File \"/opt/anaconda3/lib/python3.11/site-packages/IPython/core/interactiveshell.py\", line 3311, in run_cell_async\n",
      "    has_raised = await self.run_ast_nodes(code_ast.body, cell_name,\n",
      "  File \"/opt/anaconda3/lib/python3.11/site-packages/IPython/core/interactiveshell.py\", line 3493, in run_ast_nodes\n",
      "    if await self.run_code(code, result, async_=asy):\n",
      "  File \"/opt/anaconda3/lib/python3.11/site-packages/IPython/core/interactiveshell.py\", line 3553, in run_code\n",
      "    exec(code_obj, self.user_global_ns, self.user_ns)\n",
      "  File \"/var/folders/p7/p37cm2fj10xgjrjj5rzdm66c0000gn/T/ipykernel_6090/4188437962.py\", line 1, in <module>\n",
      "    import matplotlib.pyplot as plt\n",
      "  File \"/opt/anaconda3/lib/python3.11/site-packages/matplotlib/__init__.py\", line 161, in <module>\n",
      "    from . import _api, _version, cbook, _docstring, rcsetup\n",
      "  File \"/opt/anaconda3/lib/python3.11/site-packages/matplotlib/rcsetup.py\", line 27, in <module>\n",
      "    from matplotlib.colors import Colormap, is_color_like\n",
      "  File \"/opt/anaconda3/lib/python3.11/site-packages/matplotlib/colors.py\", line 57, in <module>\n",
      "    from matplotlib import _api, _cm, cbook, scale\n",
      "  File \"/opt/anaconda3/lib/python3.11/site-packages/matplotlib/scale.py\", line 22, in <module>\n",
      "    from matplotlib.ticker import (\n",
      "  File \"/opt/anaconda3/lib/python3.11/site-packages/matplotlib/ticker.py\", line 143, in <module>\n",
      "    from matplotlib import transforms as mtransforms\n",
      "  File \"/opt/anaconda3/lib/python3.11/site-packages/matplotlib/transforms.py\", line 49, in <module>\n",
      "    from matplotlib._path import (\n"
     ]
    },
    {
     "ename": "AttributeError",
     "evalue": "_ARRAY_API not found",
     "output_type": "error",
     "traceback": [
      "\u001b[0;31m---------------------------------------------------------------------------\u001b[0m",
      "\u001b[0;31mAttributeError\u001b[0m                            Traceback (most recent call last)",
      "\u001b[0;31mAttributeError\u001b[0m: _ARRAY_API not found"
     ]
    },
    {
     "ename": "ImportError",
     "evalue": "numpy.core.multiarray failed to import",
     "output_type": "error",
     "traceback": [
      "\u001b[0;31m---------------------------------------------------------------------------\u001b[0m",
      "\u001b[0;31mImportError\u001b[0m                               Traceback (most recent call last)",
      "Cell \u001b[0;32mIn[2], line 1\u001b[0m\n\u001b[0;32m----> 1\u001b[0m \u001b[38;5;28;01mimport\u001b[39;00m \u001b[38;5;21;01mmatplotlib\u001b[39;00m\u001b[38;5;21;01m.\u001b[39;00m\u001b[38;5;21;01mpyplot\u001b[39;00m \u001b[38;5;28;01mas\u001b[39;00m \u001b[38;5;21;01mplt\u001b[39;00m\n\u001b[1;32m      2\u001b[0m \u001b[38;5;28;01mimport\u001b[39;00m \u001b[38;5;21;01mseaborn\u001b[39;00m \u001b[38;5;28;01mas\u001b[39;00m \u001b[38;5;21;01msns\u001b[39;00m\n\u001b[1;32m      3\u001b[0m \u001b[38;5;28;01mimport\u001b[39;00m \u001b[38;5;21;01mtorch\u001b[39;00m\n",
      "File \u001b[0;32m/opt/anaconda3/lib/python3.11/site-packages/matplotlib/__init__.py:161\u001b[0m\n\u001b[1;32m    157\u001b[0m \u001b[38;5;28;01mfrom\u001b[39;00m \u001b[38;5;21;01mpackaging\u001b[39;00m\u001b[38;5;21;01m.\u001b[39;00m\u001b[38;5;21;01mversion\u001b[39;00m \u001b[38;5;28;01mimport\u001b[39;00m parse \u001b[38;5;28;01mas\u001b[39;00m parse_version\n\u001b[1;32m    159\u001b[0m \u001b[38;5;66;03m# cbook must import matplotlib only within function\u001b[39;00m\n\u001b[1;32m    160\u001b[0m \u001b[38;5;66;03m# definitions, so it is safe to import from it here.\u001b[39;00m\n\u001b[0;32m--> 161\u001b[0m \u001b[38;5;28;01mfrom\u001b[39;00m \u001b[38;5;21;01m.\u001b[39;00m \u001b[38;5;28;01mimport\u001b[39;00m _api, _version, cbook, _docstring, rcsetup\n\u001b[1;32m    162\u001b[0m \u001b[38;5;28;01mfrom\u001b[39;00m \u001b[38;5;21;01mmatplotlib\u001b[39;00m\u001b[38;5;21;01m.\u001b[39;00m\u001b[38;5;21;01mcbook\u001b[39;00m \u001b[38;5;28;01mimport\u001b[39;00m sanitize_sequence\n\u001b[1;32m    163\u001b[0m \u001b[38;5;28;01mfrom\u001b[39;00m \u001b[38;5;21;01mmatplotlib\u001b[39;00m\u001b[38;5;21;01m.\u001b[39;00m\u001b[38;5;21;01m_api\u001b[39;00m \u001b[38;5;28;01mimport\u001b[39;00m MatplotlibDeprecationWarning\n",
      "File \u001b[0;32m/opt/anaconda3/lib/python3.11/site-packages/matplotlib/rcsetup.py:27\u001b[0m\n\u001b[1;32m     25\u001b[0m \u001b[38;5;28;01mfrom\u001b[39;00m \u001b[38;5;21;01mmatplotlib\u001b[39;00m \u001b[38;5;28;01mimport\u001b[39;00m _api, cbook\n\u001b[1;32m     26\u001b[0m \u001b[38;5;28;01mfrom\u001b[39;00m \u001b[38;5;21;01mmatplotlib\u001b[39;00m\u001b[38;5;21;01m.\u001b[39;00m\u001b[38;5;21;01mcbook\u001b[39;00m \u001b[38;5;28;01mimport\u001b[39;00m ls_mapper\n\u001b[0;32m---> 27\u001b[0m \u001b[38;5;28;01mfrom\u001b[39;00m \u001b[38;5;21;01mmatplotlib\u001b[39;00m\u001b[38;5;21;01m.\u001b[39;00m\u001b[38;5;21;01mcolors\u001b[39;00m \u001b[38;5;28;01mimport\u001b[39;00m Colormap, is_color_like\n\u001b[1;32m     28\u001b[0m \u001b[38;5;28;01mfrom\u001b[39;00m \u001b[38;5;21;01mmatplotlib\u001b[39;00m\u001b[38;5;21;01m.\u001b[39;00m\u001b[38;5;21;01m_fontconfig_pattern\u001b[39;00m \u001b[38;5;28;01mimport\u001b[39;00m parse_fontconfig_pattern\n\u001b[1;32m     29\u001b[0m \u001b[38;5;28;01mfrom\u001b[39;00m \u001b[38;5;21;01mmatplotlib\u001b[39;00m\u001b[38;5;21;01m.\u001b[39;00m\u001b[38;5;21;01m_enums\u001b[39;00m \u001b[38;5;28;01mimport\u001b[39;00m JoinStyle, CapStyle\n",
      "File \u001b[0;32m/opt/anaconda3/lib/python3.11/site-packages/matplotlib/colors.py:57\u001b[0m\n\u001b[1;32m     55\u001b[0m \u001b[38;5;28;01mimport\u001b[39;00m \u001b[38;5;21;01mmatplotlib\u001b[39;00m \u001b[38;5;28;01mas\u001b[39;00m \u001b[38;5;21;01mmpl\u001b[39;00m\n\u001b[1;32m     56\u001b[0m \u001b[38;5;28;01mimport\u001b[39;00m \u001b[38;5;21;01mnumpy\u001b[39;00m \u001b[38;5;28;01mas\u001b[39;00m \u001b[38;5;21;01mnp\u001b[39;00m\n\u001b[0;32m---> 57\u001b[0m \u001b[38;5;28;01mfrom\u001b[39;00m \u001b[38;5;21;01mmatplotlib\u001b[39;00m \u001b[38;5;28;01mimport\u001b[39;00m _api, _cm, cbook, scale\n\u001b[1;32m     58\u001b[0m \u001b[38;5;28;01mfrom\u001b[39;00m \u001b[38;5;21;01m.\u001b[39;00m\u001b[38;5;21;01m_color_data\u001b[39;00m \u001b[38;5;28;01mimport\u001b[39;00m BASE_COLORS, TABLEAU_COLORS, CSS4_COLORS, XKCD_COLORS\n\u001b[1;32m     61\u001b[0m \u001b[38;5;28;01mclass\u001b[39;00m \u001b[38;5;21;01m_ColorMapping\u001b[39;00m(\u001b[38;5;28mdict\u001b[39m):\n",
      "File \u001b[0;32m/opt/anaconda3/lib/python3.11/site-packages/matplotlib/scale.py:22\u001b[0m\n\u001b[1;32m     20\u001b[0m \u001b[38;5;28;01mimport\u001b[39;00m \u001b[38;5;21;01mmatplotlib\u001b[39;00m \u001b[38;5;28;01mas\u001b[39;00m \u001b[38;5;21;01mmpl\u001b[39;00m\n\u001b[1;32m     21\u001b[0m \u001b[38;5;28;01mfrom\u001b[39;00m \u001b[38;5;21;01mmatplotlib\u001b[39;00m \u001b[38;5;28;01mimport\u001b[39;00m _api, _docstring\n\u001b[0;32m---> 22\u001b[0m \u001b[38;5;28;01mfrom\u001b[39;00m \u001b[38;5;21;01mmatplotlib\u001b[39;00m\u001b[38;5;21;01m.\u001b[39;00m\u001b[38;5;21;01mticker\u001b[39;00m \u001b[38;5;28;01mimport\u001b[39;00m (\n\u001b[1;32m     23\u001b[0m     NullFormatter, ScalarFormatter, LogFormatterSciNotation, LogitFormatter,\n\u001b[1;32m     24\u001b[0m     NullLocator, LogLocator, AutoLocator, AutoMinorLocator,\n\u001b[1;32m     25\u001b[0m     SymmetricalLogLocator, AsinhLocator, LogitLocator)\n\u001b[1;32m     26\u001b[0m \u001b[38;5;28;01mfrom\u001b[39;00m \u001b[38;5;21;01mmatplotlib\u001b[39;00m\u001b[38;5;21;01m.\u001b[39;00m\u001b[38;5;21;01mtransforms\u001b[39;00m \u001b[38;5;28;01mimport\u001b[39;00m Transform, IdentityTransform\n\u001b[1;32m     29\u001b[0m \u001b[38;5;28;01mclass\u001b[39;00m \u001b[38;5;21;01mScaleBase\u001b[39;00m:\n",
      "File \u001b[0;32m/opt/anaconda3/lib/python3.11/site-packages/matplotlib/ticker.py:143\u001b[0m\n\u001b[1;32m    141\u001b[0m \u001b[38;5;28;01mimport\u001b[39;00m \u001b[38;5;21;01mmatplotlib\u001b[39;00m \u001b[38;5;28;01mas\u001b[39;00m \u001b[38;5;21;01mmpl\u001b[39;00m\n\u001b[1;32m    142\u001b[0m \u001b[38;5;28;01mfrom\u001b[39;00m \u001b[38;5;21;01mmatplotlib\u001b[39;00m \u001b[38;5;28;01mimport\u001b[39;00m _api, cbook\n\u001b[0;32m--> 143\u001b[0m \u001b[38;5;28;01mfrom\u001b[39;00m \u001b[38;5;21;01mmatplotlib\u001b[39;00m \u001b[38;5;28;01mimport\u001b[39;00m transforms \u001b[38;5;28;01mas\u001b[39;00m mtransforms\n\u001b[1;32m    145\u001b[0m _log \u001b[38;5;241m=\u001b[39m logging\u001b[38;5;241m.\u001b[39mgetLogger(\u001b[38;5;18m__name__\u001b[39m)\n\u001b[1;32m    147\u001b[0m __all__ \u001b[38;5;241m=\u001b[39m (\u001b[38;5;124m'\u001b[39m\u001b[38;5;124mTickHelper\u001b[39m\u001b[38;5;124m'\u001b[39m, \u001b[38;5;124m'\u001b[39m\u001b[38;5;124mFormatter\u001b[39m\u001b[38;5;124m'\u001b[39m, \u001b[38;5;124m'\u001b[39m\u001b[38;5;124mFixedFormatter\u001b[39m\u001b[38;5;124m'\u001b[39m,\n\u001b[1;32m    148\u001b[0m            \u001b[38;5;124m'\u001b[39m\u001b[38;5;124mNullFormatter\u001b[39m\u001b[38;5;124m'\u001b[39m, \u001b[38;5;124m'\u001b[39m\u001b[38;5;124mFuncFormatter\u001b[39m\u001b[38;5;124m'\u001b[39m, \u001b[38;5;124m'\u001b[39m\u001b[38;5;124mFormatStrFormatter\u001b[39m\u001b[38;5;124m'\u001b[39m,\n\u001b[1;32m    149\u001b[0m            \u001b[38;5;124m'\u001b[39m\u001b[38;5;124mStrMethodFormatter\u001b[39m\u001b[38;5;124m'\u001b[39m, \u001b[38;5;124m'\u001b[39m\u001b[38;5;124mScalarFormatter\u001b[39m\u001b[38;5;124m'\u001b[39m, \u001b[38;5;124m'\u001b[39m\u001b[38;5;124mLogFormatter\u001b[39m\u001b[38;5;124m'\u001b[39m,\n\u001b[0;32m   (...)\u001b[0m\n\u001b[1;32m    155\u001b[0m            \u001b[38;5;124m'\u001b[39m\u001b[38;5;124mMultipleLocator\u001b[39m\u001b[38;5;124m'\u001b[39m, \u001b[38;5;124m'\u001b[39m\u001b[38;5;124mMaxNLocator\u001b[39m\u001b[38;5;124m'\u001b[39m, \u001b[38;5;124m'\u001b[39m\u001b[38;5;124mAutoMinorLocator\u001b[39m\u001b[38;5;124m'\u001b[39m,\n\u001b[1;32m    156\u001b[0m            \u001b[38;5;124m'\u001b[39m\u001b[38;5;124mSymmetricalLogLocator\u001b[39m\u001b[38;5;124m'\u001b[39m, \u001b[38;5;124m'\u001b[39m\u001b[38;5;124mAsinhLocator\u001b[39m\u001b[38;5;124m'\u001b[39m, \u001b[38;5;124m'\u001b[39m\u001b[38;5;124mLogitLocator\u001b[39m\u001b[38;5;124m'\u001b[39m)\n",
      "File \u001b[0;32m/opt/anaconda3/lib/python3.11/site-packages/matplotlib/transforms.py:49\u001b[0m\n\u001b[1;32m     46\u001b[0m \u001b[38;5;28;01mfrom\u001b[39;00m \u001b[38;5;21;01mnumpy\u001b[39;00m\u001b[38;5;21;01m.\u001b[39;00m\u001b[38;5;21;01mlinalg\u001b[39;00m \u001b[38;5;28;01mimport\u001b[39;00m inv\n\u001b[1;32m     48\u001b[0m \u001b[38;5;28;01mfrom\u001b[39;00m \u001b[38;5;21;01mmatplotlib\u001b[39;00m \u001b[38;5;28;01mimport\u001b[39;00m _api\n\u001b[0;32m---> 49\u001b[0m \u001b[38;5;28;01mfrom\u001b[39;00m \u001b[38;5;21;01mmatplotlib\u001b[39;00m\u001b[38;5;21;01m.\u001b[39;00m\u001b[38;5;21;01m_path\u001b[39;00m \u001b[38;5;28;01mimport\u001b[39;00m (\n\u001b[1;32m     50\u001b[0m     affine_transform, count_bboxes_overlapping_bbox, update_path_extents)\n\u001b[1;32m     51\u001b[0m \u001b[38;5;28;01mfrom\u001b[39;00m \u001b[38;5;21;01m.\u001b[39;00m\u001b[38;5;21;01mpath\u001b[39;00m \u001b[38;5;28;01mimport\u001b[39;00m Path\n\u001b[1;32m     53\u001b[0m DEBUG \u001b[38;5;241m=\u001b[39m \u001b[38;5;28;01mFalse\u001b[39;00m\n",
      "\u001b[0;31mImportError\u001b[0m: numpy.core.multiarray failed to import"
     ]
    }
   ],
   "source": [
    "import matplotlib.pyplot as plt\n",
    "import seaborn as sns\n",
    "import torch\n",
    "from torch import nn\n",
    "import torch.optim as optim\n",
    "import torch.utils.data as data\n",
    "import torchvision.transforms as transforms\n",
    "from torchvision import datasets\n",
    "from tqdm.notebook import trange"
   ]
  },
  {
   "cell_type": "code",
   "execution_count": 3,
   "id": "bb022257",
   "metadata": {},
   "outputs": [],
   "source": [
    "# Número de processos para o dataloader\n",
    "NUM_WORKERS = 0\n",
    "# Quantas amostras (imagens) por batch\n",
    "BATCH_SIZE = 128\n",
    "# Converte dados em tensores\n",
    "transform = transforms.ToTensor()\n",
    "\n",
    "# Carrega dados de treino e teste\n",
    "train_data = datasets.MNIST(root='data', train=True,\n",
    "    download=True, transform=transform)\n",
    "test_data = datasets.MNIST(root='data', train=False,\n",
    "    download=True, transform=transform)\n",
    "\n",
    "# Cria dataset de validação\n",
    "VALIDATION_SIZE = 0.1\n",
    "n_train_examples = int(len(train_data) * VALIDATION_SIZE)\n",
    "n_valid_examples = len(train_data) - n_train_examples\n",
    "\n",
    "train_data, valid_data = data.random_split(\n",
    "    train_data, [n_train_examples, n_valid_examples])\n",
    "\n",
    "# Data Loaders\n",
    "train_loader = torch.utils.data.DataLoader(train_data, shuffle=True, \n",
    "   batch_size=BATCH_SIZE, num_workers=NUM_WORKERS)\n",
    "valid_loader = torch.utils.data.DataLoader(valid_data,\n",
    "   batch_size=BATCH_SIZE, num_workers=NUM_WORKERS)\n",
    "test_loader = torch.utils.data.DataLoader(test_data, \n",
    "  batch_size=BATCH_SIZE, num_workers=NUM_WORKERS)"
   ]
  },
  {
   "cell_type": "code",
   "execution_count": 4,
   "id": "99c35828",
   "metadata": {},
   "outputs": [],
   "source": [
    "def set_device(on_gpu=True):\n",
    "    has_mps = torch.backends.mps.is_available()\n",
    "    has_cuda = torch.cuda.is_available()\n",
    "    return \"mps\" if (has_mps and on_gpu) \\\n",
    "            else \"cuda\" if (has_cuda and on_gpu) \\\n",
    "            else \"cpu\""
   ]
  },
  {
   "cell_type": "code",
   "execution_count": 5,
   "id": "6dc13f30",
   "metadata": {},
   "outputs": [
    {
     "name": "stdout",
     "output_type": "stream",
     "text": [
      "Num. Parâmetros no modelo: 1853034\n"
     ]
    }
   ],
   "source": [
    "torch.manual_seed(42)\n",
    "\n",
    "EPOCHS = 10\n",
    "device = set_device(on_gpu=True)\n",
    "model = SimpleCNN()\n",
    "model = model.to(device)\n",
    "loss_function = nn.CrossEntropyLoss()\n",
    "optimizer = torch.optim.Adam(model.parameters(), lr=0.001)\n",
    "\n",
    "num_parameters = sum(p.numel() for p in model.parameters() if p.requires_grad)\n",
    "print(f\"Num. Parâmetros no modelo:\", num_parameters)"
   ]
  },
  {
   "cell_type": "code",
   "execution_count": 6,
   "id": "6ff37b14",
   "metadata": {},
   "outputs": [],
   "source": [
    "def correct(output, target):\n",
    "    predicted_digits = output.argmax(1)                            # Posição com maior valor da saída\n",
    "    correct_ones = (predicted_digits == target).type(torch.float)  # 1.0 se acertou, 0.0 caso contrário\n",
    "    return correct_ones.sum().item()                               # Conta o número de acertos\n",
    "\n",
    "def train_model_mini_batch_with_validation(epochs, train_loader, valid_loader, model, loss_function, optimizer):\n",
    "    tr_loss = [0.]*epochs\n",
    "    val_loss = [0.]*epochs\n",
    "\n",
    "    with trange(epochs, desc=\"Training\", leave=False) as tepoch:\n",
    "        for epoch in range(epochs):\n",
    "            model.train()\n",
    "            train_total_loss = 0.0\n",
    "            total_correct = 0.0\n",
    "           \n",
    "\n",
    "            for data, target in train_loader:\n",
    "                # Copia dados para o device (ex.: GPU)\n",
    "                data = data.to(device)\n",
    "                target = target.to(device)\n",
    "                \n",
    "                # Forward pass\n",
    "                output = model(data)\n",
    "                \n",
    "                # Calcula loss\n",
    "                loss = loss_function(output, target)\n",
    "                train_total_loss += loss.item()\n",
    "\n",
    "                # Conta acertos\n",
    "                total_correct += correct(output, target)\n",
    "                \n",
    "                # Backward pass: Backpropagation\n",
    "                optimizer.zero_grad()\n",
    "                loss.backward()\n",
    "                optimizer.step()\n",
    "\n",
    "            avg_tr_loss = train_total_loss / len(train_loader)\n",
    "            tr_loss[epoch] = avg_tr_loss\n",
    "            training_accuracy = total_correct / len(train_loader.dataset) * 100\n",
    "            \n",
    "            # Validation phase\n",
    "            model.eval()  # Set the model to evaluation mode\n",
    "            val_total_loss = 0.0\n",
    "            val_total_correct = 0\n",
    "            \n",
    "\n",
    "            with torch.no_grad():\n",
    "                for data, target in valid_loader:\n",
    "                    data = data.to(device)\n",
    "                    target = target.to(device)\n",
    "                    \n",
    "                    # Forward pass\n",
    "                    output = model(data)\n",
    "                    \n",
    "                    # Calcula loss\n",
    "                    loss = loss_function(output, target)\n",
    "                    val_total_loss += loss.item()\n",
    "\n",
    "                    # Conta acertos\n",
    "                    val_total_correct += correct(output, target)\n",
    "\n",
    "            avg_val_loss = val_total_loss / len(valid_loader)\n",
    "            val_loss[epoch] = avg_val_loss\n",
    "            validation_accuracy = val_total_correct / len(valid_loader.dataset) * 100\n",
    "            tepoch.set_postfix(train_loss=avg_tr_loss, train_acc=training_accuracy, val_loss=avg_val_loss, val_acc=validation_accuracy)\n",
    "            tepoch.update(1)\n",
    "\n",
    "    epoch_ticks = [i+1 for i in range(epochs)]\n",
    "    plt.figure(figsize=(4,3))\n",
    "    sns.lineplot(x=epoch_ticks, y=tr_loss, marker=\"o\", label=\"Train. Loss\" )\n",
    "    sns.lineplot(x=epoch_ticks, y=val_loss, marker=\"^\", linestyle=\"--\", label=\"Valid. Loss\")\n",
    "    plt.xlabel('Epoch')\n",
    "    plt.ylabel('Loss')\n",
    "    plt.title(\"Comportamento da Loss\")\n",
    "    plt.legend()\n",
    "    sns.despine()\n",
    "    plt.show()"
   ]
  },
  {
   "cell_type": "code",
   "execution_count": 7,
   "id": "a7c3b776",
   "metadata": {},
   "outputs": [
    {
     "data": {
      "application/vnd.jupyter.widget-view+json": {
       "model_id": "ac315596bd7f44a09c8efdb37d2dee1d",
       "version_major": 2,
       "version_minor": 0
      },
      "text/plain": [
       "Training:   0%|          | 0/10 [00:00<?, ?it/s]"
      ]
     },
     "metadata": {},
     "output_type": "display_data"
    },
    {
     "data": {
      "image/png": "[encoded data removed]",
      "text/plain": [
       "<Figure size 400x300 with 1 Axes>"
      ]
     },
     "metadata": {},
     "output_type": "display_data"
    }
   ],
   "source": [
    "train_model_mini_batch_with_validation(\n",
    "    EPOCHS, \n",
    "    train_loader, \n",
    "    valid_loader, \n",
    "    model, \n",
    "    loss_function, \n",
    "    optimizer)"
   ]
  },
  {
   "cell_type": "markdown",
   "id": "a16b6c2e",
   "metadata": {
    "editable": true,
    "slideshow": {
     "slide_type": "slide"
    },
    "tags": []
   },
   "source": [
    "## Convolução em CNNs\n",
    "---\n",
    "\n",
    "<center>\n",
    "<table style=\"width:100%;border:none;\">\n",
    "<tr>\n",
    "<td style=\"vertical-align:middle;text-align:left;border:none;\">\n",
    "\n",
    "- O bloco fundamental de uma CNN é a **Camada Convolucional**.\n",
    "- A convolução é uma busca por padrões: o filtro desliza sobre a imagem, procurando por uma característica específica.\n",
    "- Se o padrão do filtro corresponder à região da imagem, o resultado será um valor alto (ativação).\n",
    "- **Conectividade Local:** Os neurônios da CNN se conectam apenas a uma pequena região local do volume de entrada, chamada **campo receptivo**.\n",
    "- Isso explora a correlação local, pois as características importantes (bordas, curvas) são localizadas.\n",
    "\n",
    "</td>\n",
    "<td style=\"vertical-align:middle;text-align:center;border:none;\">\n",
    "<img src=\"http://neuralnetworksanddeeplearning.com/images/tikz43.png\"/>\n",
    " <span style='display:block;'>Convolução na camada escondida. Fonte: <a href=\"http://neuralnetworksanddeeplearning.com/chap6.html\" target=\"_blank\">Michael Nielsen</a>.</span>\n",
    "</td>\n",
    "</tr>\n",
    "</table>\n",
    "</center>\n",
    "\n",
    "\n"
   ]
  },
  {
   "cell_type": "markdown",
   "id": "904fe558",
   "metadata": {},
   "source": [
    "## Convolução em CNNs\n",
    "---\n",
    "\n",
    "<center>\n",
    "<table style=\"width:100%;border:none;\">\n",
    "<tr>\n",
    "<td style=\"vertical-align:middle;text-align:left;border:none;width:40%;\">\n",
    "\n",
    "- Cada filtro na camada convolucional aprende a detectar um tipo de característica (**feature**).\n",
    "- Nas camadas iniciais, os filtros detectam características de baixo nível, como bordas horizontais, verticais e curvas.\n",
    "- **O filtro em si é uma matriz de pesos (parâmetros) cujos valores são aprendidos durante o treinamento via backpropagation.**\n",
    "\n",
    "</td>\n",
    "<td style=\"vertical-align:middle;text-align:center;border:none;\">\n",
    "<img src=\"http://neuralnetworksanddeeplearning.com/images/tikz44.png\" width=\"600\">\n",
    " <span style='display:block;'>Convolução no primeiro neurônio da camada escondida. Fonte: <a href=\"http://neuralnetworksanddeeplearning.com/chap6.html\" target=\"_blank\">Michael Nielsen</a>.</span>\n",
    "</td>\n",
    "</tr>\n",
    "</table>\n",
    "</center>\n"
   ]
  },
  {
   "cell_type": "markdown",
   "id": "4e020d49",
   "metadata": {},
   "source": [
    "## Convolução em CNNs\n",
    "---\n",
    "\n",
    "- A operação de convolução (para fins de CNN) é o **produto escalar** (multiplicação elemento a elemento seguida por soma) entre o filtro e a região de entrada correspondente.\n",
    "$$ \\text{Output} = \\sum_{i, j} (\\text{Input}_{i, j} \\times \\text{Filter}_{i, j}) + \\text{Bias} $$\n",
    "- O resultado é um único número que mede o grau de correspondência do filtro com a região de entrada.\n",
    "- Esse processo é repetido para cada localização onde o filtro desliza.\n",
    "- Os resultados são colocados em uma matriz de saída chamada **Mapa de Ativação** (Activation Map) ou **Mapa de Características** (Feature Map).\n",
    "\n",
    "<div style='align: left; text-align:center;'>\n",
    "    <img src='https://poloclub.github.io/cnn-explainer/assets/figures/convlayer_detailedview_demo.gif' alt='Convolução CNN' style=\"width:400px;\"/>\n",
    "    <span style='display:block;'>Convolução e Feature Map. Fonte: <a href=\"https://poloclub.github.io/cnn-explainer/\" target=\"_blank\"> CNN Explainer</a>.</span>\n",
    "    <br/>\n",
    "</div>\n"
   ]
  },
  {
   "cell_type": "markdown",
   "id": "90280ef8",
   "metadata": {},
   "source": [
    "## Convolução 3D\n",
    "---\n",
    "\n",
    "<div style='align: left; text-align:center;'>\n",
    "    <img src='https://framerusercontent.com/images/ZS9Atu2axnCtVjlj1gKbXMLAA78.png' alt='Convolução CNN' style=\"width:600px;\"/>\n",
    "    <span style='display:block;'>Convolução e Volume. Fonte: <a href=\"https://www.v7labs.com/blog/convolutional-neural-networks-guide\" target=\"_blank\"> V7 Labs</a>.</span>\n",
    "    <br/>\n",
    "</div>\n"
   ]
  },
  {
   "cell_type": "markdown",
   "id": "c8fab424",
   "metadata": {},
   "source": [
    "## Hyperparâmetros da Convolução\n",
    "\n",
    "- **Kernel Size ($F$):** Tamanhos comuns são $3 \\times 3$ ou $5 \\times 5$. Tamanhos menores são frequentemente melhores para expressar características mais fortes com menos parâmetros.\n",
    "- **Número de Filtros:** Aumenta com a profundidade; geralmente começa em 32 e dobra (64, 128, etc.).\n",
    "- **Stride ($S$):** É o número de pixels que o filtro se move (desloca) sobre a entrada a cada iteração.\n",
    "    - **Stride = 1:** O filtro se move um pixel por vez, resultando em sobreposição de campos receptivos e um mapa de ativação grande.\n",
    "    - **Stride > 1:** Causa um \"salto\" maior do filtro, resultando em menos etapas e um mapa de ativação espacialmente menor.\n",
    "    - Um *stride* maior reduz a dimensionalidade e o custo computacional.\n",
    "- **Padding**: É a adição de pixels extras (geralmente com valor zero, **Zero-Padding**) em torno das bordas da imagem de entrada.\n",
    "    - **Problema de Redução:** Sem padding, a convolução geralmente reduz o tamanho espacial da saída. Padding garante que os pixels de borda (que seriam pouco usados) participem do campo receptivo.\n",
    "    - **Padding \"Same\" (Igual):** Adiciona zeros o suficiente para que a dimensão espacial da saída seja a mesma da entrada (assumindo $S=1$).\n",
    "    - **Padding \"Valid\" (Válido):** Não usa padding, resultando em uma saída menor que a entrada."
   ]
  },
  {
   "cell_type": "markdown",
   "id": "5bee3a36",
   "metadata": {},
   "source": [
    "## Mapa de Ativação\n",
    "---\n",
    "**Determinando o Tamanho do Mapa de Ativação**:\n",
    "- O tamanho espacial de saída $O$ de uma camada convolucional é determinado pela dimensão de entrada ($N$), tamanho do kernel ($F$), Padding ($P$) e Stride ($S$).\n",
    "- Para que o resultado seja um inteiro, a fórmula abaixo deve ser satisfeita.\n",
    "\n",
    "$$ O = \\lfloor \\frac{N - F + 2P}{S} \\rfloor + 1 $$\n",
    "\n",
    "\n",
    "**Exemplo**: Imagem de entrada $32 \\times 32$ ($N=32$), Kernel $5 \\times 5$ ($F=5$).\n",
    "- **Cenário 1 (Stride e Padding):** Stride $S=1$. Para obter *Same Padding* (preservar 32x32), $P$ deve ser: $P = (F-1)/2 = (5-1)/2 = 2$.\n",
    "    - $O = \\frac{32 - 5 + 2(2)}{1} + 1 = \\frac{31}{1} + 1 = 32$\n",
    "    - A saída é $32 \\times 32$ (tamanho preservado).\n",
    "- **Cenário 2 (Sem Padding, Stride 1):** $P=0, S=1$.\n",
    "    - $O = \\frac{32 - 5 + 0}{1} + 1 = 27 + 1 = 28 $\n",
    "    - A saída é $28 \\times 28$.\n"
   ]
  },
  {
   "cell_type": "markdown",
   "id": "b951b066",
   "metadata": {},
   "source": [
    "\n",
    "## Compartilhamento de Parâmetros\n",
    "---\n",
    "\n",
    "- O **Compartilhamento de Parâmetros** é uma característica distintiva das CNNs.\n",
    "- O mesmo filtro (conjunto de pesos) é usado em todas as posições espaciais da camada de entrada. \n",
    "- Para um filtro 5x5: $\\sigma\\left(b + \\sum_{l=0}^4 \\sum_{m=0}^4  w_{l,m} a_{j+l, k+m} \\right)$\n",
    "- **Vantagem I: Redução de Parâmetros:** Em vez de cada neurônio ter seu próprio conjunto de pesos, muitos neurônios compartilham o mesmo filtro.\n",
    "- **Vantagem II: Equivariância à Translação:** Se uma característica (ex: uma linha) for útil em uma parte da imagem, ela será útil em qualquer outra parte.\n",
    "- O filtro aprende a detectar a característica independentemente da sua localização exata."
   ]
  },
  {
   "cell_type": "markdown",
   "id": "ed21997f",
   "metadata": {},
   "source": [
    "## Função de Ativação (ReLU)\n",
    "---\n",
    "- Após a operação de convolução (que é linear), uma função de ativação é aplicada ao mapa de ativação para introduzir não-linearidade.\n",
    "- **ReLU** é a função mais comum: $f(x) = \\max(0, x)$.\n",
    "- Ela remove valores negativos, ajustando-os para zero, o que pode ser visto como uma função de limiar (thresholding).\n",
    "\n",
    "<div style='align: left; text-align:center;'>\n",
    "    <img src='https://www.bouvet.no/bouvet-deler/understanding-convolutional-neural-networks-part-1/_/attachment/inline/8dd1e76d-a5bc-4a55-8f8d-b5fc2085a148:046fe87f48f07020b5cf6e8198a97a233faa78a9/Screenshot%202019-07-01%20at%2013.17.12.png' alt='Efeito da ReLU' style=\"width:600px;\"/>\n",
    "    <span style='display:block;'>Efeito da ReLU. Fonte: <a href=\"https://www.bouvet.no/bouvet-deler/understanding-convolutional-neural-networks-part-1\" target=\"_blank\"> Bouvet</a>.</span>\n",
    "    <br/>\n",
    "</div>\n"
   ]
  },
  {
   "cell_type": "markdown",
   "id": "79c28b18",
   "metadata": {},
   "source": [
    "## Pooling (Subamostragem)\n",
    "---\n",
    "\n",
    "- O **Pooling** é uma forma de subamostragem (downsampling) não linear, geralmente inserida periodicamente entre camadas convolucionais.\n",
    "- **Objetivos Principais:**\n",
    "    - Reduzir a dimensionalidade espacial (Altura e Largura).\n",
    "    - Reduzir o número de parâmetros e a quantidade de computação.\n",
    "    - Ajudar a controlar o overfitting.\n",
    "    - Conceder um grau de **invariância local à translação**.\n",
    "- O filtro de pooling **não tem parâmetros treináveis** (não tem pesos).\n",
    "- Um $2 \\times 2$ Max Pooling com $S=2$ descarta 75% das ativações espaciais\n",
    "\n",
    "<table style=\"width:100%;border:none;\">\n",
    "<tr>\n",
    "<td style=\"vertical-align:middle;text-align:center;border:none;\">\n",
    "<img src=\"https://stanford.edu/~shervine/teaching/cs-230/illustrations/max-pooling-a.png?711b14799d07f9306864695e2713ae07\" width=\"400\">\n",
    " <span style='display:block;'>Max pooling. Fonte: <a href=\"https://stanford.edu/~shervine/teaching/cs-230/cheatsheet-convolutional-neural-networks\" target=\"_blank\">Stanford.edu</a>.</span>\n",
    "\n",
    "</td>\n",
    "<td style=\"vertical-align:middle;text-align:center;border:none;\">\n",
    "<img src=\"https://stanford.edu/~shervine/teaching/cs-230/illustrations/average-pooling-a.png?58f9ab6d61248c3ec8d526ef65763d2f\" width=\"400\">\n",
    "<span style='display:block;'>Average pooling. Fonte: <a href=\"https://stanford.edu/~shervine/teaching/cs-230/cheatsheet-convolutional-neural-networks\" target=\"_blank\">Stanford.edu</a>.</span>\n",
    "</td>\n",
    "</tr>\n",
    "</table>"
   ]
  },
  {
   "cell_type": "markdown",
   "id": "800ea44b",
   "metadata": {},
   "source": [
    "## Pooling: Exemplo numérico\n",
    "---\n",
    "\n",
    "\n",
    "\n",
    "<div style='align: left; text-align:center;'>\n",
    "    <img src=\"https://github.com/rasbt/machine-learning-book/blob/main/ch14/figures/14_08.png?raw=true\" width=\"600\">\n",
    " <span style='display:block;'>Pooling. Fonte: <a href=\"https://github.com/rasbt/machine-learning-book/blob/main/ch14/figures/14_08.png\" target=\"_blank\">Sebastian Raschka</a>.</span>\n",
    "    <br/>\n",
    "</div>\n"
   ]
  },
  {
   "cell_type": "markdown",
   "id": "87e600eb",
   "metadata": {},
   "source": [
    "## Fully Connected (FC)\n",
    "---\n",
    "\n",
    "- Após uma série de camadas Convolucionais e de Pooling, o volume de dados contém características de alto nível.\n",
    "- A última etapa é a classificação, realizada por camadas **Totalmente Conectadas (FC)** (ou densas).\n",
    "- **Flattening (Achatamento):** O volume 3D final do extrator de características deve ser convertido em um vetor 1D antes de entrar na primeira camada FC.\n",
    "- As camadas FC mapeiam as características extraídas para as probabilidades de classe.\n",
    "- O número de neurônios na camada de saída é igual ao número de classes (e.g., 10 para MNIST).\n",
    "- Para classificação de imagens: A camada de saída do classificador FC tipicamente usa a função de ativação **Softmax** para converter os valores brutos de saída da rede em probabilidades normalizadas.\n",
    "\n",
    "<div style='align: left; text-align:center;'>\n",
    "    <img src=\"https://stanford.edu/~shervine/teaching/cs-230/illustrations/fully-connected-ltr.png?32caf9e07c79d652faa292812579d063\" width=\"400\">\n",
    " <span style='display:block;'>Camada FC. Fonte: <a href=\"https://stanford.edu/~shervine/teaching/cs-230/cheatsheet-convolutional-neural-networks\" target=\"_blank\">Stanford.edu</a>.</span>\n",
    "    <br/>\n",
    "</div>"
   ]
  },
  {
   "cell_type": "markdown",
   "id": "de96b78e",
   "metadata": {},
   "source": [
    "## Arquitetura CNN\n",
    "---\n",
    "\n",
    "- Uma CNN de classificação é dividida em duas partes principais:\n",
    "    1.  **Extrator de Características (Feature Extractor):** Composto por blocos Conv + ReLU + Pooling (ou ConvBlocks). É comum empilhar 2 ou 3 camadas Conv/ReLU consecutivas antes de uma camada Pooling.\n",
    "    2.  **Classificador (Classifier):** Composto por camadas Fully Connected (FC) + Softmax.\n",
    "- O fluxo de dados transforma o volume de entrada, tipicamente reduzindo as dimensões espaciais (H, W) e aumentando a profundidade (Canais/Filtros).\n",
    "- **Hierarquia de Características:**\n",
    "    - Camadas iniciais aprendem elementos simples (bordas, cores).\n",
    "    - Camadas médias combinam elementos simples em formas mais complexas (e.g., olhos, rodas).\n",
    "    - Camadas profundas aprendem conceitos abstratos de alto nível (e.g., faces, objetos inteiros).\n",
    "\n",
    "\n",
    "\n",
    "\n",
    "<div style='align: left; text-align:center;'>\n",
    "    <img src=\"https://learnopencv.com/wp-content/uploads/2023/01/tensorflow-keras-convolutional-blocks-summary-1024x299.png\" width=\"600\">\n",
    " <span style='display:block;'>Exemplo de Arquitetura de uma CNN. Fonte: <a href=\"https://learnopencv.com/understanding-convolutional-neural-networks-cnn/\" target=\"_blank\">LearnOpenCV</a>.</span>\n",
    "    <br/>\n",
    "</div>\n"
   ]
  },
  {
   "cell_type": "markdown",
   "id": "1bedff32",
   "metadata": {},
   "source": [
    "## Treinamento\n",
    "---\n",
    "\n",
    "- As CNNs são tipicamente treinadas usando **Aprendizado Supervisionado**.\n",
    "- Os pesos iniciais (elementos dos filtros) são definidos aleatoriamente.\n",
    "- O processo de aprendizagem utiliza o **Backpropagation** e o **Gradiente Descendente**.\n",
    "- **Loss Function (Função de Perda):** Mede o erro entre a previsão da rede e o rótulo verdadeiro (Ground Truth).\n",
    "- **Otimização:** O algoritmo ajusta iterativamente os pesos (filtros e FC) para minimizar a perda.\n"
   ]
  },
  {
   "cell_type": "markdown",
   "id": "a7ded794",
   "metadata": {
    "editable": true,
    "slideshow": {
     "slide_type": "slide"
    },
    "tags": []
   },
   "source": [
    "## Resumo\n",
    "\n",
    "---\n",
    "\n",
    "<table style=\"width:100%;border:none;\">\n",
    "<tr>\n",
    "<td style=\"vertical-align:middle;text-align:left;border:none;width:65%;\">\n",
    "\n",
    "- As CNNs são inerentemente adequadas para processar imagens devido a três propriedades principais:\n",
    "    1.  **Conectividade Local:** Foca na correlação espacial, que é forte em imagens.\n",
    "    2.  **Compartilhamento de Pesos:** Reduz drasticamente os parâmetros, mitigando o overfitting e tornando o modelo escalável.\n",
    "    3.  **Pooling:** Introduz downsampling, que reduz a complexidade e a memória, e concede invariância local a pequenas variações de posição.\n",
    "- A capacidade de aprender características (filtros) automaticamente elimina a necessidade de definir manualmente os recursos visuais.\n",
    "- **Arquitetura:** CNNs são formadas por um Extrator de Características (Conv/Pooling) seguido por um Classificador (FC/Softmax).\n",
    "- **Leitura Recomendada**:\n",
    "  - [An Introduction to Convolutional Neural Networks](https://arxiv.org/pdf/1511.08458).\n",
    "  - [CNN Explainer](https://poloclub.github.io/cnn-explainer/)\n",
    "  - [ConvNets by Stanford](https://cs231n.github.io/convolutional-networks/)\n",
    "- **Mateiral adicional**: [Convolutional Neural Networks from Scratch](https://www.youtube.com/watch?v=jDe5BAsT2-Y)\n",
    "\n",
    "</td>\n",
    "<td style=\"vertical-align:middle;text-align:center;border:none;width:35%;\">\n",
    "\n",
    "    \n",
    "<div style='align:center; text-align:center;'>\n",
    "    <img src='https://hadrienj.github.io/assets/images/deep-learning-book-goodfellow-cover.jpg' style=\"width:200px;\"/>\n",
    "    <span style='display:block;'><b>Leitura Recomendada</b>: Capítulo 6.</span>\n",
    "</div> \n",
    "\n",
    "</td>\n",
    "</tr>\n",
    "</table>"
   ]
  },
  {
   "cell_type": "markdown",
   "id": "13db396d",
   "metadata": {},
   "source": [
    "## Perguntas e Discussão\n",
    "---\n",
    "\n",
    "1. O Perceptron Multicamadas (MLP) é a arquitetura básica de redes neurais. Por que os MLPs são inerentemente inadequados para processar imagens de alta resolução, e como a CNN supera a principal limitação de dimensionalidade do MLP?\n",
    "2. As três principais operações em um extrator de características de CNN são **Convolução**, **ReLU** e **Pooling**. Qual é a contribuição fundamental de cada uma dessas operações para a capacidade de uma CNN aprender e generalizar, especialmente no contexto de downsampling?\n",
    "3. O treinamento de uma CNN envolve o aprendizado automático de filtros (pesos). Descreva a natureza hierárquica das características aprendidas em CNNs profundas. O que um filtro (kernel) típico nas camadas iniciais detecta em comparação com as características detectadas nas camadas mais profundas?\n",
    "4.  Qual é o objetivo do **Zero-Padding** e qual o valor de padding ($P$) deve ser escolhido para um filtro de tamanho $F$ se quisermos garantir que a saída espacial ($O$) seja exatamente a mesma que a entrada espacial ($N$), assumindo um Stride ($S$) de 1? Demonstre usando a fórmula do tamanho de saída.\n",
    "5. Vimos que os filtros não são pré-definidos manualmente, mas sim aprendidos. Na fase de treinamento, como o algoritmo de Backpropagation (Retropropagação) \"sabe\" qual filtro deve ser ajustado para detectar uma curva ou uma linha, se os pesos são inicializados aleatoriamente? Por que esse processo não é considerado \"sorte\" ou aleatório?"
   ]
  }
 ],
 "metadata": {
  "kernelspec": {
   "display_name": "hypernn-G_MaMKSj",
   "language": "python",
   "name": "python3"
  },
  "language_info": {
   "codemirror_mode": {
    "name": "ipython",
    "version": 3
   },
   "file_extension": ".py",
   "mimetype": "text/x-python",
   "name": "python",
   "nbconvert_exporter": "python",
   "pygments_lexer": "ipython3",
   "version": "3.11.5"
  }
 },
 "nbformat": 4,
 "nbformat_minor": 5
}